{
 "cells": [
  {
   "cell_type": "markdown",
   "id": "b19b2a4b-27c6-45e9-b893-ee729aa070a9",
   "metadata": {},
   "source": [
    "# 1) Initialization"
   ]
  },
  {
   "cell_type": "code",
   "execution_count": 1,
   "id": "dd20d8b9-b31b-49dc-9ff9-06c007ca9ce4",
   "metadata": {},
   "outputs": [],
   "source": [
    "# Import the libraries\n",
    "import pandas as pd\n",
    "from pandas import Grouper\n",
    "from datetime import datetime\n",
    "pd.options.display.max_rows = 500 \n",
    "pd.set_option('display.max_columns', None)\n",
    "import numpy as np\n",
    "import matplotlib.pyplot as plt\n",
    "import seaborn as sns\n",
    "from IPython.display import IFrame\n",
    "from IPython.display import display\n",
    "from IPython.display import HTML, Image\n",
    "import folium\n",
    "from folium import Marker\n",
    "from folium.plugins import MarkerCluster\n",
    "from folium import plugins"
   ]
  },
  {
   "cell_type": "markdown",
   "id": "2ae02c39-55b1-4d8e-bc59-cf5b799029b7",
   "metadata": {},
   "source": [
    "### 1.2) We gather the data"
   ]
  },
  {
   "cell_type": "code",
   "execution_count": 2,
   "id": "e0b0397c-9ca9-40e8-addc-0eff8429553e",
   "metadata": {},
   "outputs": [],
   "source": [
    "df = pd.read_csv(\"citibike_trips.csv\")"
   ]
  },
  {
   "cell_type": "markdown",
   "id": "6a86b2a8-abdc-4772-9fcb-d9f2ee3a3a06",
   "metadata": {},
   "source": [
    "# 2) Exploratory Data Analysis"
   ]
  },
  {
   "cell_type": "markdown",
   "id": "3499f6bd-c114-4d85-ae09-c6be7dc3cd32",
   "metadata": {},
   "source": [
    "### 2.1) Global dataset overview"
   ]
  },
  {
   "cell_type": "code",
   "execution_count": 3,
   "id": "c3934853-8d6a-407a-a976-b9679aa81da5",
   "metadata": {},
   "outputs": [
    {
     "name": "stdout",
     "output_type": "stream",
     "text": [
      "shape of the dataset : (1000, 16)\n"
     ]
    }
   ],
   "source": [
    "#Shape of the dataset\n",
    "print (\"shape of the dataset :\", df.shape)"
   ]
  },
  {
   "cell_type": "code",
   "execution_count": 4,
   "id": "2f2e0b11-ca68-42e3-b55c-0a4318dbb008",
   "metadata": {},
   "outputs": [
    {
     "name": "stdout",
     "output_type": "stream",
     "text": [
      "The head of the dataset:\n"
     ]
    },
    {
     "data": {
      "text/html": [
       "<div>\n",
       "<style scoped>\n",
       "    .dataframe tbody tr th:only-of-type {\n",
       "        vertical-align: middle;\n",
       "    }\n",
       "\n",
       "    .dataframe tbody tr th {\n",
       "        vertical-align: top;\n",
       "    }\n",
       "\n",
       "    .dataframe thead th {\n",
       "        text-align: right;\n",
       "    }\n",
       "</style>\n",
       "<table border=\"1\" class=\"dataframe\">\n",
       "  <thead>\n",
       "    <tr style=\"text-align: right;\">\n",
       "      <th></th>\n",
       "      <th>tripduration</th>\n",
       "      <th>starttime</th>\n",
       "      <th>stoptime</th>\n",
       "      <th>start_station_id</th>\n",
       "      <th>start_station_name</th>\n",
       "      <th>start_station_latitude</th>\n",
       "      <th>start_station_longitude</th>\n",
       "      <th>end_station_id</th>\n",
       "      <th>end_station_name</th>\n",
       "      <th>end_station_latitude</th>\n",
       "      <th>end_station_longitude</th>\n",
       "      <th>bikeid</th>\n",
       "      <th>usertype</th>\n",
       "      <th>birth_year</th>\n",
       "      <th>gender</th>\n",
       "      <th>customer_plan</th>\n",
       "    </tr>\n",
       "  </thead>\n",
       "  <tbody>\n",
       "    <tr>\n",
       "      <th>0</th>\n",
       "      <td>432</td>\n",
       "      <td>2013-09-16T19:22:43</td>\n",
       "      <td>2013-09-16T19:29:55</td>\n",
       "      <td>509</td>\n",
       "      <td>9 Ave &amp; W 22 St</td>\n",
       "      <td>40.745497</td>\n",
       "      <td>-74.001971</td>\n",
       "      <td>442</td>\n",
       "      <td>W 27 St &amp; 7 Ave</td>\n",
       "      <td>40.746647</td>\n",
       "      <td>-73.993915</td>\n",
       "      <td>18447</td>\n",
       "      <td>Subscriber</td>\n",
       "      <td>1951</td>\n",
       "      <td>male</td>\n",
       "      <td>NaN</td>\n",
       "    </tr>\n",
       "    <tr>\n",
       "      <th>1</th>\n",
       "      <td>1186</td>\n",
       "      <td>2015-12-30T13:02:38</td>\n",
       "      <td>2015-12-30T13:22:25</td>\n",
       "      <td>280</td>\n",
       "      <td>E 10 St &amp; 5 Ave</td>\n",
       "      <td>40.733320</td>\n",
       "      <td>-73.995101</td>\n",
       "      <td>254</td>\n",
       "      <td>W 11 St &amp; 6 Ave</td>\n",
       "      <td>40.735324</td>\n",
       "      <td>-73.998004</td>\n",
       "      <td>22598</td>\n",
       "      <td>Subscriber</td>\n",
       "      <td>1945</td>\n",
       "      <td>female</td>\n",
       "      <td>NaN</td>\n",
       "    </tr>\n",
       "    <tr>\n",
       "      <th>2</th>\n",
       "      <td>799</td>\n",
       "      <td>2017-09-02T16:27:37</td>\n",
       "      <td>2017-09-02T16:40:57</td>\n",
       "      <td>335</td>\n",
       "      <td>Washington Pl &amp; Broadway</td>\n",
       "      <td>40.729039</td>\n",
       "      <td>-73.994046</td>\n",
       "      <td>540</td>\n",
       "      <td>Lexington Ave &amp; E 29 St</td>\n",
       "      <td>40.743116</td>\n",
       "      <td>-73.982154</td>\n",
       "      <td>28833</td>\n",
       "      <td>Subscriber</td>\n",
       "      <td>1997</td>\n",
       "      <td>male</td>\n",
       "      <td>NaN</td>\n",
       "    </tr>\n",
       "    <tr>\n",
       "      <th>3</th>\n",
       "      <td>238</td>\n",
       "      <td>2017-11-15T06:57:09</td>\n",
       "      <td>2017-11-15T07:01:08</td>\n",
       "      <td>146</td>\n",
       "      <td>Hudson St &amp; Reade St</td>\n",
       "      <td>40.716250</td>\n",
       "      <td>-74.009106</td>\n",
       "      <td>387</td>\n",
       "      <td>Centre St &amp; Chambers St</td>\n",
       "      <td>40.712733</td>\n",
       "      <td>-74.004607</td>\n",
       "      <td>21338</td>\n",
       "      <td>Subscriber</td>\n",
       "      <td>1998</td>\n",
       "      <td>female</td>\n",
       "      <td>NaN</td>\n",
       "    </tr>\n",
       "    <tr>\n",
       "      <th>4</th>\n",
       "      <td>668</td>\n",
       "      <td>2013-11-07T15:12:07</td>\n",
       "      <td>2013-11-07T15:23:15</td>\n",
       "      <td>529</td>\n",
       "      <td>W 42 St &amp; 8 Ave</td>\n",
       "      <td>40.757570</td>\n",
       "      <td>-73.990985</td>\n",
       "      <td>352</td>\n",
       "      <td>W 56 St &amp; 6 Ave</td>\n",
       "      <td>40.763406</td>\n",
       "      <td>-73.977225</td>\n",
       "      <td>19888</td>\n",
       "      <td>Subscriber</td>\n",
       "      <td>1949</td>\n",
       "      <td>male</td>\n",
       "      <td>NaN</td>\n",
       "    </tr>\n",
       "  </tbody>\n",
       "</table>\n",
       "</div>"
      ],
      "text/plain": [
       "   tripduration            starttime             stoptime  start_station_id  \\\n",
       "0           432  2013-09-16T19:22:43  2013-09-16T19:29:55               509   \n",
       "1          1186  2015-12-30T13:02:38  2015-12-30T13:22:25               280   \n",
       "2           799  2017-09-02T16:27:37  2017-09-02T16:40:57               335   \n",
       "3           238  2017-11-15T06:57:09  2017-11-15T07:01:08               146   \n",
       "4           668  2013-11-07T15:12:07  2013-11-07T15:23:15               529   \n",
       "\n",
       "         start_station_name  start_station_latitude  start_station_longitude  \\\n",
       "0           9 Ave & W 22 St               40.745497               -74.001971   \n",
       "1           E 10 St & 5 Ave               40.733320               -73.995101   \n",
       "2  Washington Pl & Broadway               40.729039               -73.994046   \n",
       "3      Hudson St & Reade St               40.716250               -74.009106   \n",
       "4           W 42 St & 8 Ave               40.757570               -73.990985   \n",
       "\n",
       "   end_station_id         end_station_name  end_station_latitude  \\\n",
       "0             442          W 27 St & 7 Ave             40.746647   \n",
       "1             254          W 11 St & 6 Ave             40.735324   \n",
       "2             540  Lexington Ave & E 29 St             40.743116   \n",
       "3             387  Centre St & Chambers St             40.712733   \n",
       "4             352          W 56 St & 6 Ave             40.763406   \n",
       "\n",
       "   end_station_longitude  bikeid    usertype  birth_year  gender  \\\n",
       "0             -73.993915   18447  Subscriber        1951    male   \n",
       "1             -73.998004   22598  Subscriber        1945  female   \n",
       "2             -73.982154   28833  Subscriber        1997    male   \n",
       "3             -74.004607   21338  Subscriber        1998  female   \n",
       "4             -73.977225   19888  Subscriber        1949    male   \n",
       "\n",
       "   customer_plan  \n",
       "0            NaN  \n",
       "1            NaN  \n",
       "2            NaN  \n",
       "3            NaN  \n",
       "4            NaN  "
      ]
     },
     "metadata": {},
     "output_type": "display_data"
    }
   ],
   "source": [
    "print(\"The head of the dataset:\")\n",
    "display(df.head())"
   ]
  },
  {
   "cell_type": "code",
   "execution_count": 5,
   "id": "157dc55c-2612-40fe-a731-54426acde362",
   "metadata": {},
   "outputs": [
    {
     "name": "stdout",
     "output_type": "stream",
     "text": [
      "The analytics description of the dataset:\n"
     ]
    },
    {
     "data": {
      "text/html": [
       "<div>\n",
       "<style scoped>\n",
       "    .dataframe tbody tr th:only-of-type {\n",
       "        vertical-align: middle;\n",
       "    }\n",
       "\n",
       "    .dataframe tbody tr th {\n",
       "        vertical-align: top;\n",
       "    }\n",
       "\n",
       "    .dataframe thead th {\n",
       "        text-align: right;\n",
       "    }\n",
       "</style>\n",
       "<table border=\"1\" class=\"dataframe\">\n",
       "  <thead>\n",
       "    <tr style=\"text-align: right;\">\n",
       "      <th></th>\n",
       "      <th>tripduration</th>\n",
       "      <th>start_station_id</th>\n",
       "      <th>start_station_latitude</th>\n",
       "      <th>start_station_longitude</th>\n",
       "      <th>end_station_id</th>\n",
       "      <th>end_station_latitude</th>\n",
       "      <th>end_station_longitude</th>\n",
       "      <th>bikeid</th>\n",
       "      <th>birth_year</th>\n",
       "      <th>customer_plan</th>\n",
       "    </tr>\n",
       "  </thead>\n",
       "  <tbody>\n",
       "    <tr>\n",
       "      <th>count</th>\n",
       "      <td>1000.000000</td>\n",
       "      <td>1000.000000</td>\n",
       "      <td>1000.000000</td>\n",
       "      <td>1000.000000</td>\n",
       "      <td>1000.000000</td>\n",
       "      <td>1000.000000</td>\n",
       "      <td>1000.000000</td>\n",
       "      <td>1000.000000</td>\n",
       "      <td>1000.000000</td>\n",
       "      <td>0.0</td>\n",
       "    </tr>\n",
       "    <tr>\n",
       "      <th>mean</th>\n",
       "      <td>760.862000</td>\n",
       "      <td>990.772000</td>\n",
       "      <td>40.734512</td>\n",
       "      <td>-73.987983</td>\n",
       "      <td>1088.475000</td>\n",
       "      <td>40.733220</td>\n",
       "      <td>-73.988233</td>\n",
       "      <td>21650.280000</td>\n",
       "      <td>1966.172000</td>\n",
       "      <td>NaN</td>\n",
       "    </tr>\n",
       "    <tr>\n",
       "      <th>std</th>\n",
       "      <td>750.114314</td>\n",
       "      <td>1164.328279</td>\n",
       "      <td>0.025569</td>\n",
       "      <td>0.014753</td>\n",
       "      <td>1225.520218</td>\n",
       "      <td>0.025273</td>\n",
       "      <td>0.014999</td>\n",
       "      <td>5044.413181</td>\n",
       "      <td>25.301118</td>\n",
       "      <td>NaN</td>\n",
       "    </tr>\n",
       "    <tr>\n",
       "      <th>min</th>\n",
       "      <td>61.000000</td>\n",
       "      <td>72.000000</td>\n",
       "      <td>40.661063</td>\n",
       "      <td>-74.017134</td>\n",
       "      <td>72.000000</td>\n",
       "      <td>40.657089</td>\n",
       "      <td>-74.017134</td>\n",
       "      <td>14543.000000</td>\n",
       "      <td>1885.000000</td>\n",
       "      <td>NaN</td>\n",
       "    </tr>\n",
       "    <tr>\n",
       "      <th>25%</th>\n",
       "      <td>344.000000</td>\n",
       "      <td>325.000000</td>\n",
       "      <td>40.717548</td>\n",
       "      <td>-73.997252</td>\n",
       "      <td>336.000000</td>\n",
       "      <td>40.717439</td>\n",
       "      <td>-73.998522</td>\n",
       "      <td>17647.500000</td>\n",
       "      <td>1948.000000</td>\n",
       "      <td>NaN</td>\n",
       "    </tr>\n",
       "    <tr>\n",
       "      <th>50%</th>\n",
       "      <td>559.500000</td>\n",
       "      <td>438.000000</td>\n",
       "      <td>40.733320</td>\n",
       "      <td>-73.989169</td>\n",
       "      <td>447.000000</td>\n",
       "      <td>40.732233</td>\n",
       "      <td>-73.988900</td>\n",
       "      <td>20361.000000</td>\n",
       "      <td>1951.000000</td>\n",
       "      <td>NaN</td>\n",
       "    </tr>\n",
       "    <tr>\n",
       "      <th>75%</th>\n",
       "      <td>952.250000</td>\n",
       "      <td>533.750000</td>\n",
       "      <td>40.751876</td>\n",
       "      <td>-73.980160</td>\n",
       "      <td>2006.000000</td>\n",
       "      <td>40.749457</td>\n",
       "      <td>-73.980144</td>\n",
       "      <td>25653.250000</td>\n",
       "      <td>1996.000000</td>\n",
       "      <td>NaN</td>\n",
       "    </tr>\n",
       "    <tr>\n",
       "      <th>max</th>\n",
       "      <td>15211.000000</td>\n",
       "      <td>3660.000000</td>\n",
       "      <td>40.808200</td>\n",
       "      <td>-73.907744</td>\n",
       "      <td>3664.000000</td>\n",
       "      <td>40.814394</td>\n",
       "      <td>-73.916917</td>\n",
       "      <td>33405.000000</td>\n",
       "      <td>2001.000000</td>\n",
       "      <td>NaN</td>\n",
       "    </tr>\n",
       "  </tbody>\n",
       "</table>\n",
       "</div>"
      ],
      "text/plain": [
       "       tripduration  start_station_id  start_station_latitude  \\\n",
       "count   1000.000000       1000.000000             1000.000000   \n",
       "mean     760.862000        990.772000               40.734512   \n",
       "std      750.114314       1164.328279                0.025569   \n",
       "min       61.000000         72.000000               40.661063   \n",
       "25%      344.000000        325.000000               40.717548   \n",
       "50%      559.500000        438.000000               40.733320   \n",
       "75%      952.250000        533.750000               40.751876   \n",
       "max    15211.000000       3660.000000               40.808200   \n",
       "\n",
       "       start_station_longitude  end_station_id  end_station_latitude  \\\n",
       "count              1000.000000     1000.000000           1000.000000   \n",
       "mean                -73.987983     1088.475000             40.733220   \n",
       "std                   0.014753     1225.520218              0.025273   \n",
       "min                 -74.017134       72.000000             40.657089   \n",
       "25%                 -73.997252      336.000000             40.717439   \n",
       "50%                 -73.989169      447.000000             40.732233   \n",
       "75%                 -73.980160     2006.000000             40.749457   \n",
       "max                 -73.907744     3664.000000             40.814394   \n",
       "\n",
       "       end_station_longitude        bikeid   birth_year  customer_plan  \n",
       "count            1000.000000   1000.000000  1000.000000            0.0  \n",
       "mean              -73.988233  21650.280000  1966.172000            NaN  \n",
       "std                 0.014999   5044.413181    25.301118            NaN  \n",
       "min               -74.017134  14543.000000  1885.000000            NaN  \n",
       "25%               -73.998522  17647.500000  1948.000000            NaN  \n",
       "50%               -73.988900  20361.000000  1951.000000            NaN  \n",
       "75%               -73.980144  25653.250000  1996.000000            NaN  \n",
       "max               -73.916917  33405.000000  2001.000000            NaN  "
      ]
     },
     "metadata": {},
     "output_type": "display_data"
    }
   ],
   "source": [
    "print(\"The analytics description of the dataset:\")\n",
    "display(df.describe())"
   ]
  },
  {
   "cell_type": "code",
   "execution_count": 6,
   "id": "b2ae7103-7aad-4772-be3b-24c8655d6ae9",
   "metadata": {},
   "outputs": [
    {
     "name": "stdout",
     "output_type": "stream",
     "text": [
      "<class 'pandas.core.frame.DataFrame'>\n",
      "RangeIndex: 1000 entries, 0 to 999\n",
      "Data columns (total 16 columns):\n",
      " #   Column                   Non-Null Count  Dtype  \n",
      "---  ------                   --------------  -----  \n",
      " 0   tripduration             1000 non-null   int64  \n",
      " 1   starttime                1000 non-null   object \n",
      " 2   stoptime                 1000 non-null   object \n",
      " 3   start_station_id         1000 non-null   int64  \n",
      " 4   start_station_name       1000 non-null   object \n",
      " 5   start_station_latitude   1000 non-null   float64\n",
      " 6   start_station_longitude  1000 non-null   float64\n",
      " 7   end_station_id           1000 non-null   int64  \n",
      " 8   end_station_name         1000 non-null   object \n",
      " 9   end_station_latitude     1000 non-null   float64\n",
      " 10  end_station_longitude    1000 non-null   float64\n",
      " 11  bikeid                   1000 non-null   int64  \n",
      " 12  usertype                 1000 non-null   object \n",
      " 13  birth_year               1000 non-null   int64  \n",
      " 14  gender                   1000 non-null   object \n",
      " 15  customer_plan            0 non-null      float64\n",
      "dtypes: float64(5), int64(5), object(6)\n",
      "memory usage: 125.1+ KB\n"
     ]
    },
    {
     "data": {
      "text/plain": [
       "None"
      ]
     },
     "metadata": {},
     "output_type": "display_data"
    }
   ],
   "source": [
    "display(df.info())"
   ]
  },
  {
   "cell_type": "code",
   "execution_count": 7,
   "id": "51380401-c651-49c6-9a34-05a3f51ebede",
   "metadata": {},
   "outputs": [
    {
     "data": {
      "text/plain": [
       "tripduration                  0\n",
       "starttime                     0\n",
       "stoptime                      0\n",
       "start_station_id              0\n",
       "start_station_name            0\n",
       "start_station_latitude        0\n",
       "start_station_longitude       0\n",
       "end_station_id                0\n",
       "end_station_name              0\n",
       "end_station_latitude          0\n",
       "end_station_longitude         0\n",
       "bikeid                        0\n",
       "usertype                      0\n",
       "birth_year                    0\n",
       "gender                        0\n",
       "customer_plan              1000\n",
       "dtype: int64"
      ]
     },
     "execution_count": 7,
     "metadata": {},
     "output_type": "execute_result"
    }
   ],
   "source": [
    "df.isnull().sum()"
   ]
  },
  {
   "cell_type": "markdown",
   "id": "593fb34e-a0d3-4ede-88c0-7b5789112e82",
   "metadata": {},
   "source": [
    "### 2.2) Cleaning the data"
   ]
  },
  {
   "cell_type": "code",
   "execution_count": 8,
   "id": "50efe9a5-c0e9-4712-9c7a-e9f03afcf977",
   "metadata": {},
   "outputs": [],
   "source": [
    "#dropping NaN values\n",
    "df.drop(\"customer_plan\", axis=1, inplace=True)"
   ]
  },
  {
   "cell_type": "code",
   "execution_count": 9,
   "id": "8f1712bd-3b3f-4a16-9a4b-ba0ecd3b815b",
   "metadata": {},
   "outputs": [],
   "source": [
    "#replacing strings in before converting into datetime\n",
    "df[\"starttime\"]= df['starttime'].str.replace('T', '-').astype(str)\n",
    "df[\"stoptime\"]= df['stoptime'].str.replace('T', '-').astype(str)"
   ]
  },
  {
   "cell_type": "code",
   "execution_count": 10,
   "id": "12543099-35af-404c-9e1f-8799d0507239",
   "metadata": {},
   "outputs": [],
   "source": [
    "#converting datetime\n",
    "df['starttime']= pd.to_datetime(df['starttime'], errors='coerce')\n",
    "df['stoptime']= pd.to_datetime(df['stoptime'], errors='coerce')\n",
    "df['birth_year'] = pd.to_datetime(df['birth_year'], format='%Y')"
   ]
  },
  {
   "cell_type": "code",
   "execution_count": 11,
   "id": "69b63393-69cc-4d51-95ff-6170ec407f14",
   "metadata": {},
   "outputs": [
    {
     "name": "stdout",
     "output_type": "stream",
     "text": [
      "     tripduration               starttime                stoptime  \\\n",
      "0             432 2013-09-16 19:22:43.000 2013-09-16 19:29:55.000   \n",
      "1            1186 2015-12-30 13:02:38.000 2015-12-30 13:22:25.000   \n",
      "2             799 2017-09-02 16:27:37.000 2017-09-02 16:40:57.000   \n",
      "3             238 2017-11-15 06:57:09.000 2017-11-15 07:01:08.000   \n",
      "4             668 2013-11-07 15:12:07.000 2013-11-07 15:23:15.000   \n",
      "..            ...                     ...                     ...   \n",
      "995          1132 2018-02-04 09:52:10.349 2018-02-04 10:11:02.478   \n",
      "996           293 2014-01-27 17:13:15.000 2014-01-27 17:18:08.000   \n",
      "997           734 2017-07-25 12:07:43.000 2017-07-25 12:19:58.000   \n",
      "998           266 2013-08-04 19:57:02.000 2013-08-04 20:01:28.000   \n",
      "999           566 2014-06-29 22:19:46.000 2014-06-29 22:29:12.000   \n",
      "\n",
      "     start_station_id        start_station_name  start_station_latitude  \\\n",
      "0                 509           9 Ave & W 22 St               40.745497   \n",
      "1                 280           E 10 St & 5 Ave               40.733320   \n",
      "2                 335  Washington Pl & Broadway               40.729039   \n",
      "3                 146      Hudson St & Reade St               40.716250   \n",
      "4                 529           W 42 St & 8 Ave               40.757570   \n",
      "..                ...                       ...                     ...   \n",
      "995               119  Park Ave & St Edwards St               40.696089   \n",
      "996               509           9 Ave & W 22 St               40.745497   \n",
      "997               455           1 Ave & E 44 St               40.750020   \n",
      "998               294       Washington Square E               40.730494   \n",
      "999               379           W 31 St & 7 Ave               40.749156   \n",
      "\n",
      "     start_station_longitude  end_station_id         end_station_name  \\\n",
      "0                 -74.001971             442          W 27 St & 7 Ave   \n",
      "1                 -73.995101             254          W 11 St & 6 Ave   \n",
      "2                 -73.994046             540  Lexington Ave & E 29 St   \n",
      "3                 -74.009106             387  Centre St & Chambers St   \n",
      "4                 -73.990985             352          W 56 St & 6 Ave   \n",
      "..                       ...             ...                      ...   \n",
      "995               -73.978034             412    Forsyth St & Canal St   \n",
      "996               -74.001971             446          W 24 St & 7 Ave   \n",
      "997               -73.969053            3466          W 45 St & 6 Ave   \n",
      "998               -73.995721             345          W 13 St & 6 Ave   \n",
      "999               -73.991600             528          2 Ave & E 31 St   \n",
      "\n",
      "     end_station_latitude  end_station_longitude  bikeid    usertype  \\\n",
      "0               40.746647             -73.993915   18447  Subscriber   \n",
      "1               40.735324             -73.998004   22598  Subscriber   \n",
      "2               40.743116             -73.982154   28833  Subscriber   \n",
      "3               40.712733             -74.004607   21338  Subscriber   \n",
      "4               40.763406             -73.977225   19888  Subscriber   \n",
      "..                    ...                    ...     ...         ...   \n",
      "995             40.715815             -73.994224   18867  Subscriber   \n",
      "996             40.744876             -73.995299   16126  Subscriber   \n",
      "997             40.756687             -73.982577   19261    Customer   \n",
      "998             40.736494             -73.997044   14873  Subscriber   \n",
      "999             40.742909             -73.977061   14543  Subscriber   \n",
      "\n",
      "    birth_year  gender  age  \n",
      "0   1951-01-01    male   71  \n",
      "1   1945-01-01  female   77  \n",
      "2   1997-01-01    male   25  \n",
      "3   1998-01-01  female   24  \n",
      "4   1949-01-01    male   73  \n",
      "..         ...     ...  ...  \n",
      "995 1947-01-01  female   75  \n",
      "996 1942-01-01    male   80  \n",
      "997 1996-01-01    male   26  \n",
      "998 1941-01-01    male   81  \n",
      "999 1944-01-01    male   78  \n",
      "\n",
      "[1000 rows x 16 columns]\n"
     ]
    }
   ],
   "source": [
    "#converting birth_year into age in a new column\n",
    "now = pd.Timestamp('now')\n",
    "df['birth_year'] = df['birth_year'].where(df['birth_year'] < now, df['birth_year'] -  np.timedelta64(100, 'Y'))   # 2\n",
    "df['age'] = (now - df['birth_year']).astype('<m8[Y]')\n",
    "df['age'] = df['age'].astype(int)\n",
    "print(df)"
   ]
  },
  {
   "cell_type": "code",
   "execution_count": 12,
   "id": "65fd38c6-6510-4645-a2c7-5ec2c3e4f7f7",
   "metadata": {},
   "outputs": [
    {
     "data": {
      "text/html": [
       "<div>\n",
       "<style scoped>\n",
       "    .dataframe tbody tr th:only-of-type {\n",
       "        vertical-align: middle;\n",
       "    }\n",
       "\n",
       "    .dataframe tbody tr th {\n",
       "        vertical-align: top;\n",
       "    }\n",
       "\n",
       "    .dataframe thead th {\n",
       "        text-align: right;\n",
       "    }\n",
       "</style>\n",
       "<table border=\"1\" class=\"dataframe\">\n",
       "  <thead>\n",
       "    <tr style=\"text-align: right;\">\n",
       "      <th></th>\n",
       "      <th>tripduration</th>\n",
       "      <th>starttime</th>\n",
       "      <th>stoptime</th>\n",
       "      <th>start_station_id</th>\n",
       "      <th>start_station_name</th>\n",
       "      <th>start_station_latitude</th>\n",
       "      <th>start_station_longitude</th>\n",
       "      <th>end_station_id</th>\n",
       "      <th>end_station_name</th>\n",
       "      <th>end_station_latitude</th>\n",
       "      <th>end_station_longitude</th>\n",
       "      <th>bikeid</th>\n",
       "      <th>usertype</th>\n",
       "      <th>birth_year</th>\n",
       "      <th>gender</th>\n",
       "      <th>age</th>\n",
       "    </tr>\n",
       "  </thead>\n",
       "  <tbody>\n",
       "    <tr>\n",
       "      <th>0</th>\n",
       "      <td>432</td>\n",
       "      <td>2013-09-16 19:22:43</td>\n",
       "      <td>2013-09-16 19:29:55</td>\n",
       "      <td>509</td>\n",
       "      <td>9 Ave &amp; W 22 St</td>\n",
       "      <td>40.745497</td>\n",
       "      <td>-74.001971</td>\n",
       "      <td>442</td>\n",
       "      <td>W 27 St &amp; 7 Ave</td>\n",
       "      <td>40.746647</td>\n",
       "      <td>-73.993915</td>\n",
       "      <td>18447</td>\n",
       "      <td>Subscriber</td>\n",
       "      <td>1951-01-01</td>\n",
       "      <td>male</td>\n",
       "      <td>71</td>\n",
       "    </tr>\n",
       "    <tr>\n",
       "      <th>1</th>\n",
       "      <td>1186</td>\n",
       "      <td>2015-12-30 13:02:38</td>\n",
       "      <td>2015-12-30 13:22:25</td>\n",
       "      <td>280</td>\n",
       "      <td>E 10 St &amp; 5 Ave</td>\n",
       "      <td>40.733320</td>\n",
       "      <td>-73.995101</td>\n",
       "      <td>254</td>\n",
       "      <td>W 11 St &amp; 6 Ave</td>\n",
       "      <td>40.735324</td>\n",
       "      <td>-73.998004</td>\n",
       "      <td>22598</td>\n",
       "      <td>Subscriber</td>\n",
       "      <td>1945-01-01</td>\n",
       "      <td>female</td>\n",
       "      <td>77</td>\n",
       "    </tr>\n",
       "    <tr>\n",
       "      <th>2</th>\n",
       "      <td>799</td>\n",
       "      <td>2017-09-02 16:27:37</td>\n",
       "      <td>2017-09-02 16:40:57</td>\n",
       "      <td>335</td>\n",
       "      <td>Washington Pl &amp; Broadway</td>\n",
       "      <td>40.729039</td>\n",
       "      <td>-73.994046</td>\n",
       "      <td>540</td>\n",
       "      <td>Lexington Ave &amp; E 29 St</td>\n",
       "      <td>40.743116</td>\n",
       "      <td>-73.982154</td>\n",
       "      <td>28833</td>\n",
       "      <td>Subscriber</td>\n",
       "      <td>1997-01-01</td>\n",
       "      <td>male</td>\n",
       "      <td>25</td>\n",
       "    </tr>\n",
       "    <tr>\n",
       "      <th>3</th>\n",
       "      <td>238</td>\n",
       "      <td>2017-11-15 06:57:09</td>\n",
       "      <td>2017-11-15 07:01:08</td>\n",
       "      <td>146</td>\n",
       "      <td>Hudson St &amp; Reade St</td>\n",
       "      <td>40.716250</td>\n",
       "      <td>-74.009106</td>\n",
       "      <td>387</td>\n",
       "      <td>Centre St &amp; Chambers St</td>\n",
       "      <td>40.712733</td>\n",
       "      <td>-74.004607</td>\n",
       "      <td>21338</td>\n",
       "      <td>Subscriber</td>\n",
       "      <td>1998-01-01</td>\n",
       "      <td>female</td>\n",
       "      <td>24</td>\n",
       "    </tr>\n",
       "    <tr>\n",
       "      <th>4</th>\n",
       "      <td>668</td>\n",
       "      <td>2013-11-07 15:12:07</td>\n",
       "      <td>2013-11-07 15:23:15</td>\n",
       "      <td>529</td>\n",
       "      <td>W 42 St &amp; 8 Ave</td>\n",
       "      <td>40.757570</td>\n",
       "      <td>-73.990985</td>\n",
       "      <td>352</td>\n",
       "      <td>W 56 St &amp; 6 Ave</td>\n",
       "      <td>40.763406</td>\n",
       "      <td>-73.977225</td>\n",
       "      <td>19888</td>\n",
       "      <td>Subscriber</td>\n",
       "      <td>1949-01-01</td>\n",
       "      <td>male</td>\n",
       "      <td>73</td>\n",
       "    </tr>\n",
       "  </tbody>\n",
       "</table>\n",
       "</div>"
      ],
      "text/plain": [
       "   tripduration           starttime            stoptime  start_station_id  \\\n",
       "0           432 2013-09-16 19:22:43 2013-09-16 19:29:55               509   \n",
       "1          1186 2015-12-30 13:02:38 2015-12-30 13:22:25               280   \n",
       "2           799 2017-09-02 16:27:37 2017-09-02 16:40:57               335   \n",
       "3           238 2017-11-15 06:57:09 2017-11-15 07:01:08               146   \n",
       "4           668 2013-11-07 15:12:07 2013-11-07 15:23:15               529   \n",
       "\n",
       "         start_station_name  start_station_latitude  start_station_longitude  \\\n",
       "0           9 Ave & W 22 St               40.745497               -74.001971   \n",
       "1           E 10 St & 5 Ave               40.733320               -73.995101   \n",
       "2  Washington Pl & Broadway               40.729039               -73.994046   \n",
       "3      Hudson St & Reade St               40.716250               -74.009106   \n",
       "4           W 42 St & 8 Ave               40.757570               -73.990985   \n",
       "\n",
       "   end_station_id         end_station_name  end_station_latitude  \\\n",
       "0             442          W 27 St & 7 Ave             40.746647   \n",
       "1             254          W 11 St & 6 Ave             40.735324   \n",
       "2             540  Lexington Ave & E 29 St             40.743116   \n",
       "3             387  Centre St & Chambers St             40.712733   \n",
       "4             352          W 56 St & 6 Ave             40.763406   \n",
       "\n",
       "   end_station_longitude  bikeid    usertype birth_year  gender  age  \n",
       "0             -73.993915   18447  Subscriber 1951-01-01    male   71  \n",
       "1             -73.998004   22598  Subscriber 1945-01-01  female   77  \n",
       "2             -73.982154   28833  Subscriber 1997-01-01    male   25  \n",
       "3             -74.004607   21338  Subscriber 1998-01-01  female   24  \n",
       "4             -73.977225   19888  Subscriber 1949-01-01    male   73  "
      ]
     },
     "metadata": {},
     "output_type": "display_data"
    }
   ],
   "source": [
    "display(df.head())"
   ]
  },
  {
   "cell_type": "code",
   "execution_count": 13,
   "id": "292ef5d7-7c00-4368-8908-bcbdd082d293",
   "metadata": {},
   "outputs": [],
   "source": [
    "#The dataset seems pretty clean, let's move on to the fun part; exploring the dataset !"
   ]
  },
  {
   "cell_type": "markdown",
   "id": "548d673a-b2b8-4539-943c-3a0344eb742a",
   "metadata": {},
   "source": [
    "# 3) EXPLORING THE DATA"
   ]
  },
  {
   "cell_type": "markdown",
   "id": "3623eff1-6e3f-4819-8b4c-29988100d27e",
   "metadata": {},
   "source": [
    "### 3.1) The Users"
   ]
  },
  {
   "cell_type": "code",
   "execution_count": 14,
   "id": "862c8086-46d3-4987-9c66-e9acd7512210",
   "metadata": {},
   "outputs": [
    {
     "data": {
      "image/png": "[encoded data removed]",
      "text/plain": [
       "<Figure size 2160x576 with 2 Axes>"
      ]
     },
     "metadata": {
      "needs_background": "light"
     },
     "output_type": "display_data"
    }
   ],
   "source": [
    "plt.figure(figsize=(30,8))\n",
    "\n",
    "# first chart : Gender repartition\n",
    "plt.subplot(131)\n",
    "ax1 = sns.countplot(x = df[\"gender\"]);\n",
    "ax1.set_ylabel(\"Nb of users\")\n",
    "ax1.set_title(\"Repartition of genders\", fontsize = 15, fontweight='bold')\n",
    "for i in ax1.patches: #loop to print value of people on top of the bars\n",
    "    ax1.text(i.get_x() +0.40, i.get_height()+10,str(round((i.get_height()), 2)),fontsize = 10)\n",
    "\n",
    "# Second chart : User Type\n",
    "plt.subplot(132) \n",
    "ax2 = sns.countplot(x = df[\"usertype\"], palette='Spectral');\n",
    "ax2.set_ylabel(\"Nb of subscribers\")\n",
    "ax2.set_title(\"Users types\", fontsize = 15, fontweight='bold')\n",
    "for i in ax2.patches: #loop to print value of people on top of the bars\n",
    "    ax2.text(i.get_x() +0.40, i.get_height()+10,str(round((i.get_height()), 2)),fontsize = 10)"
   ]
  },
  {
   "cell_type": "markdown",
   "id": "41d9dbe2-8c52-4f14-9103-da77b5c29fa1",
   "metadata": {},
   "source": [
    "#### - The majority of Citibike Users are Male \n",
    "#### - The majority of Citibike Users are Subscribers"
   ]
  },
  {
   "cell_type": "code",
   "execution_count": 15,
   "id": "d62f3f16-3ee9-4a50-ac8d-1f0655e732ad",
   "metadata": {},
   "outputs": [
    {
     "data": {
      "image/png": "[encoded data removed]",
      "text/plain": [
       "<Figure size 1440x504 with 1 Axes>"
      ]
     },
     "metadata": {
      "needs_background": "light"
     },
     "output_type": "display_data"
    }
   ],
   "source": [
    "plt.figure(figsize=(20,7))\n",
    "ax1 = sns.countplot(x = df[\"age\"], palette='mako');\n",
    "ax1.set_title(\"Age repartition\", fontsize = 15, fontweight='bold')\n",
    "ax1.set_ylabel(\"Nb of Users\")\n",
    "ax1.set_xlabel(\"Users age\")\n",
    "for i in ax1.patches:\n",
    "    ax1.text(i.get_x() +0.40, i.get_height()+1,str(round((i.get_height()), 2)),fontsize = 9)\n",
    "plt.show;"
   ]
  },
  {
   "cell_type": "code",
   "execution_count": 16,
   "id": "8882d397-9fa0-4f59-a090-343f5f5d96a5",
   "metadata": {},
   "outputs": [],
   "source": [
    "#Age prep for visualisation\n",
    "def age(x=0):\n",
    "    if x>85:\n",
    "        return \"Outliers\"\n",
    "    elif x>70:\n",
    "        return \"70-85\"\n",
    "    elif x>50:\n",
    "        return \"50-70\"\n",
    "    elif x>30:\n",
    "        return \"30-50\"\n",
    "    elif x>20:\n",
    "        return \"20-30\"\n",
    "    else:\n",
    "        return \"No info\"\n",
    "\n",
    "df[\"Age_type\"] = df[\"age\"].apply(lambda x: \"Outliers\" if x>85\n",
    "                                                else \"70-85\" if x>70\n",
    "                                                else \"60-70\" if x>50\n",
    "                                                else \"30-50\" if x>30\n",
    "                                                else \"20-30\" if x>20\n",
    "                                                else \"No info\")\n",
    "\n",
    "df[\"Age_type\"] = df[\"age\"].apply(age)\n"
   ]
  },
  {
   "cell_type": "code",
   "execution_count": 17,
   "id": "3d150e73-3fe8-40d9-975c-0d201d48bdbe",
   "metadata": {},
   "outputs": [
    {
     "data": {
      "text/plain": [
       "Age_type\n",
       "20-30       382\n",
       "50-70       110\n",
       "70-85       487\n",
       "Outliers     21\n",
       "Name: age, dtype: int64"
      ]
     },
     "execution_count": 17,
     "metadata": {},
     "output_type": "execute_result"
    }
   ],
   "source": [
    "age_type = df.groupby(\"Age_type\")['age'].count()\n",
    "age_type"
   ]
  },
  {
   "cell_type": "code",
   "execution_count": 18,
   "id": "eb799bbb-cb88-49d7-a19e-8f49d4a9bdb1",
   "metadata": {},
   "outputs": [
    {
     "data": {
      "image/png": "[encoded data removed]",
      "text/plain": [
       "<Figure size 1296x432 with 1 Axes>"
      ]
     },
     "metadata": {},
     "output_type": "display_data"
    }
   ],
   "source": [
    "#Users age groups\n",
    "pie, ax = plt.subplots(figsize=[18,6])\n",
    "labels = age_type.keys()\n",
    "plt.pie(x=age_type, autopct=\"%.1f%%\", explode=[0]*4, labels=labels, pctdistance=0.5, startangle=0, shadow=True)\n",
    "plt.title(\"Users age by group\", fontsize = 15, fontweight='bold')\n",
    "pie.set_facecolor('white')\n",
    "plt.show()"
   ]
  },
  {
   "cell_type": "markdown",
   "id": "cb9de349-0d0d-48b9-b055-fb6fd451f3f9",
   "metadata": {},
   "source": [
    "#### - Half of the users are older than 70 years old"
   ]
  },
  {
   "cell_type": "code",
   "execution_count": 19,
   "id": "8af007f3-8a00-47c3-842f-6de57687dc27",
   "metadata": {},
   "outputs": [
    {
     "data": {
      "text/plain": [
       "usertype    gender \n",
       "Customer    female     25.000000\n",
       "            male       28.692308\n",
       "Subscriber  female     52.736559\n",
       "            male       57.241379\n",
       "            unknown    56.333333\n",
       "Name: age, dtype: float64"
      ]
     },
     "execution_count": 19,
     "metadata": {},
     "output_type": "execute_result"
    }
   ],
   "source": [
    "df.groupby(['usertype', 'gender']).age.mean()"
   ]
  },
  {
   "cell_type": "markdown",
   "id": "93cd2ea9-7f51-4c0e-8440-2e9e888b8912",
   "metadata": {},
   "source": [
    "#### - It seems that younger users tends to be Customers while older users tends to be subscribers"
   ]
  },
  {
   "cell_type": "markdown",
   "id": "dffd82c4-ee46-4ec3-ac02-965c885f5b59",
   "metadata": {},
   "source": [
    "# 3.2) The Bike Trips "
   ]
  },
  {
   "cell_type": "code",
   "execution_count": 20,
   "id": "5638de46-b992-44d7-9169-26bc1e7ab63f",
   "metadata": {},
   "outputs": [
    {
     "data": {
      "text/plain": [
       "760.862"
      ]
     },
     "execution_count": 20,
     "metadata": {},
     "output_type": "execute_result"
    }
   ],
   "source": [
    "df['tripduration'].mean()"
   ]
  },
  {
   "cell_type": "markdown",
   "id": "b33f4dde-78c0-4b54-bab6-aa6d2521eabd",
   "metadata": {},
   "source": [
    "#### - The mean trip duration is 760 seconds which equals to an average bike trip of 12 minutes."
   ]
  },
  {
   "cell_type": "code",
   "execution_count": 21,
   "id": "d78ced90-aa6a-41fa-9145-ccebb9b73b07",
   "metadata": {},
   "outputs": [
    {
     "data": {
      "text/plain": [
       "E 12 St & 3 Ave            13\n",
       "Broadway & E 14 St         12\n",
       "Lexington Ave & E 24 St    11\n",
       "LaGuardia Pl & W 3 St      10\n",
       "W 21 St & 6 Ave             9\n",
       "Name: start_station_name, dtype: int64"
      ]
     },
     "execution_count": 21,
     "metadata": {},
     "output_type": "execute_result"
    }
   ],
   "source": [
    "df['start_station_name'].value_counts().head(5)"
   ]
  },
  {
   "cell_type": "code",
   "execution_count": 22,
   "id": "3ceb5634-1742-4523-8bd2-40630fdc33ef",
   "metadata": {},
   "outputs": [
    {
     "data": {
      "text/plain": [
       "W 13 St & 6 Ave             16\n",
       "Washington Pl & Broadway    13\n",
       "E 13 St & Avenue A          13\n",
       "E 12 St & 3 Ave             13\n",
       "LaGuardia Pl & W 3 St       11\n",
       "Name: end_station_name, dtype: int64"
      ]
     },
     "execution_count": 22,
     "metadata": {},
     "output_type": "execute_result"
    }
   ],
   "source": [
    "df['end_station_name'].value_counts().head(5)"
   ]
  },
  {
   "cell_type": "markdown",
   "id": "a0eb030b-2c95-420c-b12a-4c2671eab39d",
   "metadata": {},
   "source": [
    "#### The most common route is :\n",
    "    \n",
    "W 13 St & 6 Ave to W 13 St & 6 Ave \n"
   ]
  },
  {
   "cell_type": "code",
   "execution_count": 23,
   "id": "96b60109-ebb4-4bf4-b569-31a52f85ffb4",
   "metadata": {},
   "outputs": [
    {
     "data": {
      "text/html": [
       "<div style=\"width:100%;\"><div style=\"position:relative;width:100%;height:0;padding-bottom:60%;\"><span style=\"color:#565656\">Make this Notebook Trusted to load map: File -> Trust Notebook</span><iframe src=\"about:blank\" style=\"position:absolute;width:100%;height:100%;left:0;top:0;border:none !important;\" data-html=%3C%21DOCTYPE%20html%3E%0A%3Chead%3E%20%20%20%20%0A%20%20%20%20%3Cmeta%20http-equiv%3D%22content-type%22%20content%3D%22text/html%3B%20charset%3DUTF-8%22%20/%3E%0A%20%20%20%20%0A%20%20%20%20%20%20%20%20%3Cscript%3E%0A%20%20%20%20%20%20%20%20%20%20%20%20L_NO_TOUCH%20%3D%20false%3B%0A%20%20%20%20%20%20%20%20%20%20%20%20L_DISABLE_3D%20%3D%20false%3B%0A%20%20%20%20%20%20%20%20%3C/script%3E%0A%20%20%20%20%0A%20%20%20%20%3Cstyle%3Ehtml%2C%20body%20%7Bwidth%3A%20100%25%3Bheight%3A%20100%25%3Bmargin%3A%200%3Bpadding%3A%200%3B%7D%3C/style%3E%0A%20%20%20%20%3Cstyle%3E%23map%20%7Bposition%3Aabsolute%3Btop%3A0%3Bbottom%3A0%3Bright%3A0%3Bleft%3A0%3B%7D%3C/style%3E%0A%20%20%20%20%3Cscript%20src%3D%22https%3A//cdn.jsdelivr.net/npm/leaflet%401.6.0/dist/leaflet.js%22%3E%3C/script%3E%0A%20%20%20%20%3Cscript%20src%3D%22https%3A//code.jquery.com/jquery-1.12.4.min.js%22%3E%3C/script%3E%0A%20%20%20%20%3Cscript%20src%3D%22https%3A//maxcdn.bootstrapcdn.com/bootstrap/3.2.0/js/bootstrap.min.js%22%3E%3C/script%3E%0A%20%20%20%20%3Cscript%20src%3D%22https%3A//cdnjs.cloudflare.com/ajax/libs/Leaflet.awesome-markers/2.0.2/leaflet.awesome-markers.js%22%3E%3C/script%3E%0A%20%20%20%20%3Clink%20rel%3D%22stylesheet%22%20href%3D%22https%3A//cdn.jsdelivr.net/npm/leaflet%401.6.0/dist/leaflet.css%22/%3E%0A%20%20%20%20%3Clink%20rel%3D%22stylesheet%22%20href%3D%22https%3A//maxcdn.bootstrapcdn.com/bootstrap/3.2.0/css/bootstrap.min.css%22/%3E%0A%20%20%20%20%3Clink%20rel%3D%22stylesheet%22%20href%3D%22https%3A//maxcdn.bootstrapcdn.com/bootstrap/3.2.0/css/bootstrap-theme.min.css%22/%3E%0A%20%20%20%20%3Clink%20rel%3D%22stylesheet%22%20href%3D%22https%3A//maxcdn.bootstrapcdn.com/font-awesome/4.6.3/css/font-awesome.min.css%22/%3E%0A%20%20%20%20%3Clink%20rel%3D%22stylesheet%22%20href%3D%22https%3A//cdnjs.cloudflare.com/ajax/libs/Leaflet.awesome-markers/2.0.2/leaflet.awesome-markers.css%22/%3E%0A%20%20%20%20%3Clink%20rel%3D%22stylesheet%22%20href%3D%22https%3A//cdn.jsdelivr.net/gh/python-visualization/folium/folium/templates/leaflet.awesome.rotate.min.css%22/%3E%0A%20%20%20%20%0A%20%20%20%20%20%20%20%20%20%20%20%20%3Cmeta%20name%3D%22viewport%22%20content%3D%22width%3Ddevice-width%2C%0A%20%20%20%20%20%20%20%20%20%20%20%20%20%20%20%20initial-scale%3D1.0%2C%20maximum-scale%3D1.0%2C%20user-scalable%3Dno%22%20/%3E%0A%20%20%20%20%20%20%20%20%20%20%20%20%3Cstyle%3E%0A%20%20%20%20%20%20%20%20%20%20%20%20%20%20%20%20%23map_ac86de7335424c43b22c0d34eb6b1c0a%20%7B%0A%20%20%20%20%20%20%20%20%20%20%20%20%20%20%20%20%20%20%20%20position%3A%20relative%3B%0A%20%20%20%20%20%20%20%20%20%20%20%20%20%20%20%20%20%20%20%20width%3A%20100.0%25%3B%0A%20%20%20%20%20%20%20%20%20%20%20%20%20%20%20%20%20%20%20%20height%3A%20100.0%25%3B%0A%20%20%20%20%20%20%20%20%20%20%20%20%20%20%20%20%20%20%20%20left%3A%200.0%25%3B%0A%20%20%20%20%20%20%20%20%20%20%20%20%20%20%20%20%20%20%20%20top%3A%200.0%25%3B%0A%20%20%20%20%20%20%20%20%20%20%20%20%20%20%20%20%7D%0A%20%20%20%20%20%20%20%20%20%20%20%20%3C/style%3E%0A%20%20%20%20%20%20%20%20%0A%20%20%20%20%3Cscript%20src%3D%22https%3A//cdn.jsdelivr.net/npm/leaflet-ant-path%401.1.2/dist/leaflet-ant-path.min.js%22%3E%3C/script%3E%0A%3C/head%3E%0A%3Cbody%3E%20%20%20%20%0A%20%20%20%20%0A%20%20%20%20%20%20%20%20%20%20%20%20%3Cdiv%20class%3D%22folium-map%22%20id%3D%22map_ac86de7335424c43b22c0d34eb6b1c0a%22%20%3E%3C/div%3E%0A%20%20%20%20%20%20%20%20%0A%3C/body%3E%0A%3Cscript%3E%20%20%20%20%0A%20%20%20%20%0A%20%20%20%20%20%20%20%20%20%20%20%20var%20map_ac86de7335424c43b22c0d34eb6b1c0a%20%3D%20L.map%28%0A%20%20%20%20%20%20%20%20%20%20%20%20%20%20%20%20%22map_ac86de7335424c43b22c0d34eb6b1c0a%22%2C%0A%20%20%20%20%20%20%20%20%20%20%20%20%20%20%20%20%7B%0A%20%20%20%20%20%20%20%20%20%20%20%20%20%20%20%20%20%20%20%20center%3A%20%5B40.732233%2C%20-73.9889%5D%2C%0A%20%20%20%20%20%20%20%20%20%20%20%20%20%20%20%20%20%20%20%20crs%3A%20L.CRS.EPSG3857%2C%0A%20%20%20%20%20%20%20%20%20%20%20%20%20%20%20%20%20%20%20%20zoom%3A%2016%2C%0A%20%20%20%20%20%20%20%20%20%20%20%20%20%20%20%20%20%20%20%20zoomControl%3A%20true%2C%0A%20%20%20%20%20%20%20%20%20%20%20%20%20%20%20%20%20%20%20%20preferCanvas%3A%20false%2C%0A%20%20%20%20%20%20%20%20%20%20%20%20%20%20%20%20%7D%0A%20%20%20%20%20%20%20%20%20%20%20%20%29%3B%0A%0A%20%20%20%20%20%20%20%20%20%20%20%20%0A%0A%20%20%20%20%20%20%20%20%0A%20%20%20%20%0A%20%20%20%20%20%20%20%20%20%20%20%20var%20tile_layer_1e93c675ed5c45b1b7a14ee0c6fa981f%20%3D%20L.tileLayer%28%0A%20%20%20%20%20%20%20%20%20%20%20%20%20%20%20%20%22https%3A//%7Bs%7D.tile.openstreetmap.org/%7Bz%7D/%7Bx%7D/%7By%7D.png%22%2C%0A%20%20%20%20%20%20%20%20%20%20%20%20%20%20%20%20%7B%22attribution%22%3A%20%22Data%20by%20%5Cu0026copy%3B%20%5Cu003ca%20href%3D%5C%22http%3A//openstreetmap.org%5C%22%5Cu003eOpenStreetMap%5Cu003c/a%5Cu003e%2C%20under%20%5Cu003ca%20href%3D%5C%22http%3A//www.openstreetmap.org/copyright%5C%22%5Cu003eODbL%5Cu003c/a%5Cu003e.%22%2C%20%22detectRetina%22%3A%20false%2C%20%22maxNativeZoom%22%3A%2018%2C%20%22maxZoom%22%3A%2018%2C%20%22minZoom%22%3A%200%2C%20%22noWrap%22%3A%20false%2C%20%22opacity%22%3A%201%2C%20%22subdomains%22%3A%20%22abc%22%2C%20%22tms%22%3A%20false%7D%0A%20%20%20%20%20%20%20%20%20%20%20%20%29.addTo%28map_ac86de7335424c43b22c0d34eb6b1c0a%29%3B%0A%20%20%20%20%20%20%20%20%0A%20%20%20%20%0A%20%20%20%20%20%20%20%20%20%20%20%20ant_path_633f4afb26054388beab6c5fcda7e685%20%3D%20L.polyline.antPath%28%0A%20%20%20%20%20%20%20%20%20%20%20%20%20%20%5B%5B40.732233%2C%20-73.9889%5D%2C%20%5B40.729554%2C%20-73.994046%5D%5D%2C%0A%20%20%20%20%20%20%20%20%20%20%20%20%20%20%7B%22bubblingMouseEvents%22%3A%20true%2C%20%22color%22%3A%20%22%230000FF%22%2C%20%22dashArray%22%3A%20%5B10%2C%2020%5D%2C%20%22dashOffset%22%3A%20null%2C%20%22delay%22%3A%20400%2C%20%22fill%22%3A%20false%2C%20%22fillColor%22%3A%20%22%233388ff%22%2C%20%22fillOpacity%22%3A%200.2%2C%20%22fillRule%22%3A%20%22evenodd%22%2C%20%22hardwareAcceleration%22%3A%20false%2C%20%22lineCap%22%3A%20%22round%22%2C%20%22lineJoin%22%3A%20%22round%22%2C%20%22noClip%22%3A%20false%2C%20%22opacity%22%3A%200.5%2C%20%22paused%22%3A%20false%2C%20%22pulseColor%22%3A%20%22%23FFFFFF%22%2C%20%22reverse%22%3A%20false%2C%20%22smoothFactor%22%3A%201.0%2C%20%22stroke%22%3A%20true%2C%20%22weight%22%3A%205%7D%0A%20%20%20%20%20%20%20%20%29.addTo%28map_ac86de7335424c43b22c0d34eb6b1c0a%29%3B%0A%20%20%20%20%20%20%20%20%0A%3C/script%3E onload=\"this.contentDocument.open();this.contentDocument.write(    decodeURIComponent(this.getAttribute('data-html')));this.contentDocument.close();\" allowfullscreen webkitallowfullscreen mozallowfullscreen></iframe></div></div>"
      ],
      "text/plain": [
       "<folium.folium.Map at 0x7f2129f0a640>"
      ]
     },
     "execution_count": 23,
     "metadata": {},
     "output_type": "execute_result"
    }
   ],
   "source": [
    "#Most common route visualisation \n",
    "\n",
    "#Map route\n",
    "map_plot_route = folium.Map(location=[40.732233,-73.9889], zoom_start=16)\n",
    "\n",
    "#Routeinfo\n",
    "route_info=[[40.732233,-73.9889], \n",
    "           [40.729554,-73.994046]]\n",
    "\n",
    "plugins.AntPath(route_info).add_to(map_plot_route)\n",
    "\n",
    "#Save map\n",
    "map_plot_route.save(\"./common_route.html\")\n",
    "\n",
    "map_plot_route"
   ]
  },
  {
   "cell_type": "markdown",
   "id": "84bb8394-dcf7-410e-b956-d683389ff1a8",
   "metadata": {},
   "source": [
    "#### - The TOP 5 starting stations are :\n",
    "\n",
    "- E 12 St & 3 Ave            \n",
    "- Broadway & E 14 St         \n",
    "- Lexington Ave & E 24 St    \n",
    "- LaGuardia Pl & W 3 St      \n",
    "- W 21 St & 6 Ave   "
   ]
  },
  {
   "cell_type": "code",
   "execution_count": 24,
   "id": "d5ef1691-3365-454e-b0ec-ad55450609af",
   "metadata": {},
   "outputs": [
    {
     "data": {
      "text/html": [
       "<div style=\"width:100%;\"><div style=\"position:relative;width:100%;height:0;padding-bottom:60%;\"><span style=\"color:#565656\">Make this Notebook Trusted to load map: File -> Trust Notebook</span><iframe src=\"about:blank\" style=\"position:absolute;width:100%;height:100%;left:0;top:0;border:none !important;\" data-html=%3C%21DOCTYPE%20html%3E%0A%3Chead%3E%20%20%20%20%0A%20%20%20%20%3Cmeta%20http-equiv%3D%22content-type%22%20content%3D%22text/html%3B%20charset%3DUTF-8%22%20/%3E%0A%20%20%20%20%0A%20%20%20%20%20%20%20%20%3Cscript%3E%0A%20%20%20%20%20%20%20%20%20%20%20%20L_NO_TOUCH%20%3D%20false%3B%0A%20%20%20%20%20%20%20%20%20%20%20%20L_DISABLE_3D%20%3D%20false%3B%0A%20%20%20%20%20%20%20%20%3C/script%3E%0A%20%20%20%20%0A%20%20%20%20%3Cstyle%3Ehtml%2C%20body%20%7Bwidth%3A%20100%25%3Bheight%3A%20100%25%3Bmargin%3A%200%3Bpadding%3A%200%3B%7D%3C/style%3E%0A%20%20%20%20%3Cstyle%3E%23map%20%7Bposition%3Aabsolute%3Btop%3A0%3Bbottom%3A0%3Bright%3A0%3Bleft%3A0%3B%7D%3C/style%3E%0A%20%20%20%20%3Cscript%20src%3D%22https%3A//cdn.jsdelivr.net/npm/leaflet%401.6.0/dist/leaflet.js%22%3E%3C/script%3E%0A%20%20%20%20%3Cscript%20src%3D%22https%3A//code.jquery.com/jquery-1.12.4.min.js%22%3E%3C/script%3E%0A%20%20%20%20%3Cscript%20src%3D%22https%3A//maxcdn.bootstrapcdn.com/bootstrap/3.2.0/js/bootstrap.min.js%22%3E%3C/script%3E%0A%20%20%20%20%3Cscript%20src%3D%22https%3A//cdnjs.cloudflare.com/ajax/libs/Leaflet.awesome-markers/2.0.2/leaflet.awesome-markers.js%22%3E%3C/script%3E%0A%20%20%20%20%3Clink%20rel%3D%22stylesheet%22%20href%3D%22https%3A//cdn.jsdelivr.net/npm/leaflet%401.6.0/dist/leaflet.css%22/%3E%0A%20%20%20%20%3Clink%20rel%3D%22stylesheet%22%20href%3D%22https%3A//maxcdn.bootstrapcdn.com/bootstrap/3.2.0/css/bootstrap.min.css%22/%3E%0A%20%20%20%20%3Clink%20rel%3D%22stylesheet%22%20href%3D%22https%3A//maxcdn.bootstrapcdn.com/bootstrap/3.2.0/css/bootstrap-theme.min.css%22/%3E%0A%20%20%20%20%3Clink%20rel%3D%22stylesheet%22%20href%3D%22https%3A//maxcdn.bootstrapcdn.com/font-awesome/4.6.3/css/font-awesome.min.css%22/%3E%0A%20%20%20%20%3Clink%20rel%3D%22stylesheet%22%20href%3D%22https%3A//cdnjs.cloudflare.com/ajax/libs/Leaflet.awesome-markers/2.0.2/leaflet.awesome-markers.css%22/%3E%0A%20%20%20%20%3Clink%20rel%3D%22stylesheet%22%20href%3D%22https%3A//cdn.jsdelivr.net/gh/python-visualization/folium/folium/templates/leaflet.awesome.rotate.min.css%22/%3E%0A%20%20%20%20%0A%20%20%20%20%20%20%20%20%20%20%20%20%3Cmeta%20name%3D%22viewport%22%20content%3D%22width%3Ddevice-width%2C%0A%20%20%20%20%20%20%20%20%20%20%20%20%20%20%20%20initial-scale%3D1.0%2C%20maximum-scale%3D1.0%2C%20user-scalable%3Dno%22%20/%3E%0A%20%20%20%20%20%20%20%20%20%20%20%20%3Cstyle%3E%0A%20%20%20%20%20%20%20%20%20%20%20%20%20%20%20%20%23map_388b3c66c2d949b39f0c9dfcb948b06e%20%7B%0A%20%20%20%20%20%20%20%20%20%20%20%20%20%20%20%20%20%20%20%20position%3A%20relative%3B%0A%20%20%20%20%20%20%20%20%20%20%20%20%20%20%20%20%20%20%20%20width%3A%20100.0%25%3B%0A%20%20%20%20%20%20%20%20%20%20%20%20%20%20%20%20%20%20%20%20height%3A%20100.0%25%3B%0A%20%20%20%20%20%20%20%20%20%20%20%20%20%20%20%20%20%20%20%20left%3A%200.0%25%3B%0A%20%20%20%20%20%20%20%20%20%20%20%20%20%20%20%20%20%20%20%20top%3A%200.0%25%3B%0A%20%20%20%20%20%20%20%20%20%20%20%20%20%20%20%20%7D%0A%20%20%20%20%20%20%20%20%20%20%20%20%3C/style%3E%0A%20%20%20%20%20%20%20%20%0A%20%20%20%20%3Cscript%20src%3D%22https%3A//cdn.jsdelivr.net/gh/marslan390/BeautifyMarker/leaflet-beautify-marker-icon.min.js%22%3E%3C/script%3E%0A%20%20%20%20%3Clink%20rel%3D%22stylesheet%22%20href%3D%22https%3A//cdn.jsdelivr.net/gh/marslan390/BeautifyMarker/leaflet-beautify-marker-icon.min.css%22/%3E%0A%3C/head%3E%0A%3Cbody%3E%20%20%20%20%0A%20%20%20%20%0A%20%20%20%20%20%20%20%20%20%20%20%20%3Cdiv%20class%3D%22folium-map%22%20id%3D%22map_388b3c66c2d949b39f0c9dfcb948b06e%22%20%3E%3C/div%3E%0A%20%20%20%20%20%20%20%20%0A%3C/body%3E%0A%3Cscript%3E%20%20%20%20%0A%20%20%20%20%0A%20%20%20%20%20%20%20%20%20%20%20%20var%20map_388b3c66c2d949b39f0c9dfcb948b06e%20%3D%20L.map%28%0A%20%20%20%20%20%20%20%20%20%20%20%20%20%20%20%20%22map_388b3c66c2d949b39f0c9dfcb948b06e%22%2C%0A%20%20%20%20%20%20%20%20%20%20%20%20%20%20%20%20%7B%0A%20%20%20%20%20%20%20%20%20%20%20%20%20%20%20%20%20%20%20%20center%3A%20%5B40.735%2C%20-74.0%5D%2C%0A%20%20%20%20%20%20%20%20%20%20%20%20%20%20%20%20%20%20%20%20crs%3A%20L.CRS.EPSG3857%2C%0A%20%20%20%20%20%20%20%20%20%20%20%20%20%20%20%20%20%20%20%20zoom%3A%2015%2C%0A%20%20%20%20%20%20%20%20%20%20%20%20%20%20%20%20%20%20%20%20zoomControl%3A%20true%2C%0A%20%20%20%20%20%20%20%20%20%20%20%20%20%20%20%20%20%20%20%20preferCanvas%3A%20false%2C%0A%20%20%20%20%20%20%20%20%20%20%20%20%20%20%20%20%7D%0A%20%20%20%20%20%20%20%20%20%20%20%20%29%3B%0A%0A%20%20%20%20%20%20%20%20%20%20%20%20%0A%0A%20%20%20%20%20%20%20%20%0A%20%20%20%20%0A%20%20%20%20%20%20%20%20%20%20%20%20var%20tile_layer_0389b1b01f3149399337eada935d533b%20%3D%20L.tileLayer%28%0A%20%20%20%20%20%20%20%20%20%20%20%20%20%20%20%20%22https%3A//%7Bs%7D.tile.openstreetmap.org/%7Bz%7D/%7Bx%7D/%7By%7D.png%22%2C%0A%20%20%20%20%20%20%20%20%20%20%20%20%20%20%20%20%7B%22attribution%22%3A%20%22Data%20by%20%5Cu0026copy%3B%20%5Cu003ca%20href%3D%5C%22http%3A//openstreetmap.org%5C%22%5Cu003eOpenStreetMap%5Cu003c/a%5Cu003e%2C%20under%20%5Cu003ca%20href%3D%5C%22http%3A//www.openstreetmap.org/copyright%5C%22%5Cu003eODbL%5Cu003c/a%5Cu003e.%22%2C%20%22detectRetina%22%3A%20false%2C%20%22maxNativeZoom%22%3A%2018%2C%20%22maxZoom%22%3A%2018%2C%20%22minZoom%22%3A%200%2C%20%22noWrap%22%3A%20false%2C%20%22opacity%22%3A%201%2C%20%22subdomains%22%3A%20%22abc%22%2C%20%22tms%22%3A%20false%7D%0A%20%20%20%20%20%20%20%20%20%20%20%20%29.addTo%28map_388b3c66c2d949b39f0c9dfcb948b06e%29%3B%0A%20%20%20%20%20%20%20%20%0A%20%20%20%20%0A%20%20%20%20%20%20%20%20%20%20%20%20var%20marker_6bdb1be05e864bcd848dcb9a05a3701b%20%3D%20L.marker%28%0A%20%20%20%20%20%20%20%20%20%20%20%20%20%20%20%20%5B40.732233%2C%20-73.9889%5D%2C%0A%20%20%20%20%20%20%20%20%20%20%20%20%20%20%20%20%7B%7D%0A%20%20%20%20%20%20%20%20%20%20%20%20%29.addTo%28map_388b3c66c2d949b39f0c9dfcb948b06e%29%3B%0A%20%20%20%20%20%20%20%20%0A%20%20%20%20%0A%20%20%20%20%20%20%20%20%20%20%20%20var%20beautify_icon_110d55a642c14ef3a62aabdd6b8f1fb8%20%3D%20new%20L.BeautifyIcon.icon%28%0A%20%20%20%20%20%20%20%20%20%20%20%20%20%20%20%20%7B%22backgroundColor%22%3A%20%22%23FFF%22%2C%20%22borderColor%22%3A%20%22red%22%2C%20%22borderWidth%22%3A%202%2C%20%22innerIconStyle%22%3A%20%22margin-top%3A0px%3B%22%2C%20%22isAlphaNumericIcon%22%3A%20true%2C%20%22spin%22%3A%20false%2C%20%22text%22%3A%201%2C%20%22textColor%22%3A%20%22red%22%7D%0A%20%20%20%20%20%20%20%20%20%20%20%20%29%0A%20%20%20%20%20%20%20%20%20%20%20%20marker_6bdb1be05e864bcd848dcb9a05a3701b.setIcon%28beautify_icon_110d55a642c14ef3a62aabdd6b8f1fb8%29%3B%0A%20%20%20%20%20%20%20%20%0A%20%20%20%20%0A%20%20%20%20%20%20%20%20var%20popup_14e2050af2e94e038ae3959c357fd237%20%3D%20L.popup%28%7B%22maxWidth%22%3A%20%22100%25%22%7D%29%3B%0A%0A%20%20%20%20%20%20%20%20%0A%20%20%20%20%20%20%20%20%20%20%20%20var%20html_e677289516f24e86a11b0c441ac87cc5%20%3D%20%24%28%60%3Cdiv%20id%3D%22html_e677289516f24e86a11b0c441ac87cc5%22%20style%3D%22width%3A%20100.0%25%3B%20height%3A%20100.0%25%3B%22%3EE%2012%20St%20%26%203%20Ave%3C/div%3E%60%29%5B0%5D%3B%0A%20%20%20%20%20%20%20%20%20%20%20%20popup_14e2050af2e94e038ae3959c357fd237.setContent%28html_e677289516f24e86a11b0c441ac87cc5%29%3B%0A%20%20%20%20%20%20%20%20%0A%0A%20%20%20%20%20%20%20%20marker_6bdb1be05e864bcd848dcb9a05a3701b.bindPopup%28popup_14e2050af2e94e038ae3959c357fd237%29%0A%20%20%20%20%20%20%20%20%3B%0A%0A%20%20%20%20%20%20%20%20%0A%20%20%20%20%0A%20%20%20%20%0A%20%20%20%20%20%20%20%20%20%20%20%20var%20marker_eabe2ac1b3a64cf48f118e44544c43e6%20%3D%20L.marker%28%0A%20%20%20%20%20%20%20%20%20%20%20%20%20%20%20%20%5B40.734546%2C%20-73.990741%5D%2C%0A%20%20%20%20%20%20%20%20%20%20%20%20%20%20%20%20%7B%7D%0A%20%20%20%20%20%20%20%20%20%20%20%20%29.addTo%28map_388b3c66c2d949b39f0c9dfcb948b06e%29%3B%0A%20%20%20%20%20%20%20%20%0A%20%20%20%20%0A%20%20%20%20%20%20%20%20%20%20%20%20var%20beautify_icon_9f5cc4555ef24c978cab2de3b8159932%20%3D%20new%20L.BeautifyIcon.icon%28%0A%20%20%20%20%20%20%20%20%20%20%20%20%20%20%20%20%7B%22backgroundColor%22%3A%20%22%23FFF%22%2C%20%22borderColor%22%3A%20%22red%22%2C%20%22borderWidth%22%3A%202%2C%20%22innerIconStyle%22%3A%20%22margin-top%3A0px%3B%22%2C%20%22isAlphaNumericIcon%22%3A%20true%2C%20%22spin%22%3A%20false%2C%20%22text%22%3A%202%2C%20%22textColor%22%3A%20%22red%22%7D%0A%20%20%20%20%20%20%20%20%20%20%20%20%29%0A%20%20%20%20%20%20%20%20%20%20%20%20marker_eabe2ac1b3a64cf48f118e44544c43e6.setIcon%28beautify_icon_9f5cc4555ef24c978cab2de3b8159932%29%3B%0A%20%20%20%20%20%20%20%20%0A%20%20%20%20%0A%20%20%20%20%20%20%20%20var%20popup_6c5ac7cf2ed6413d849fcff013dce9d2%20%3D%20L.popup%28%7B%22maxWidth%22%3A%20%22100%25%22%7D%29%3B%0A%0A%20%20%20%20%20%20%20%20%0A%20%20%20%20%20%20%20%20%20%20%20%20var%20html_c2de226c432845008d2ad14aebb3154a%20%3D%20%24%28%60%3Cdiv%20id%3D%22html_c2de226c432845008d2ad14aebb3154a%22%20style%3D%22width%3A%20100.0%25%3B%20height%3A%20100.0%25%3B%22%3EBroadway%20%26%20E%2014%20St%3C/div%3E%60%29%5B0%5D%3B%0A%20%20%20%20%20%20%20%20%20%20%20%20popup_6c5ac7cf2ed6413d849fcff013dce9d2.setContent%28html_c2de226c432845008d2ad14aebb3154a%29%3B%0A%20%20%20%20%20%20%20%20%0A%0A%20%20%20%20%20%20%20%20marker_eabe2ac1b3a64cf48f118e44544c43e6.bindPopup%28popup_6c5ac7cf2ed6413d849fcff013dce9d2%29%0A%20%20%20%20%20%20%20%20%3B%0A%0A%20%20%20%20%20%20%20%20%0A%20%20%20%20%0A%20%20%20%20%0A%20%20%20%20%20%20%20%20%20%20%20%20var%20marker_03350cff6f5f462aa54e68b0d0552958%20%3D%20L.marker%28%0A%20%20%20%20%20%20%20%20%20%20%20%20%20%20%20%20%5B40.740259%2C%20-73.984092%5D%2C%0A%20%20%20%20%20%20%20%20%20%20%20%20%20%20%20%20%7B%7D%0A%20%20%20%20%20%20%20%20%20%20%20%20%29.addTo%28map_388b3c66c2d949b39f0c9dfcb948b06e%29%3B%0A%20%20%20%20%20%20%20%20%0A%20%20%20%20%0A%20%20%20%20%20%20%20%20%20%20%20%20var%20beautify_icon_9260781436bd4680acfad0486208d06b%20%3D%20new%20L.BeautifyIcon.icon%28%0A%20%20%20%20%20%20%20%20%20%20%20%20%20%20%20%20%7B%22backgroundColor%22%3A%20%22%23FFF%22%2C%20%22borderColor%22%3A%20%22red%22%2C%20%22borderWidth%22%3A%202%2C%20%22innerIconStyle%22%3A%20%22margin-top%3A0px%3B%22%2C%20%22isAlphaNumericIcon%22%3A%20true%2C%20%22spin%22%3A%20false%2C%20%22text%22%3A%203%2C%20%22textColor%22%3A%20%22red%22%7D%0A%20%20%20%20%20%20%20%20%20%20%20%20%29%0A%20%20%20%20%20%20%20%20%20%20%20%20marker_03350cff6f5f462aa54e68b0d0552958.setIcon%28beautify_icon_9260781436bd4680acfad0486208d06b%29%3B%0A%20%20%20%20%20%20%20%20%0A%20%20%20%20%0A%20%20%20%20%20%20%20%20var%20popup_98a3d22a5ca34b59a121f9860c77a489%20%3D%20L.popup%28%7B%22maxWidth%22%3A%20%22100%25%22%7D%29%3B%0A%0A%20%20%20%20%20%20%20%20%0A%20%20%20%20%20%20%20%20%20%20%20%20var%20html_fe12399f243d4e61b053c631fc05a5d9%20%3D%20%24%28%60%3Cdiv%20id%3D%22html_fe12399f243d4e61b053c631fc05a5d9%22%20style%3D%22width%3A%20100.0%25%3B%20height%3A%20100.0%25%3B%22%3ELexington%20Ave%20%26%20E%2024%20St%3C/div%3E%60%29%5B0%5D%3B%0A%20%20%20%20%20%20%20%20%20%20%20%20popup_98a3d22a5ca34b59a121f9860c77a489.setContent%28html_fe12399f243d4e61b053c631fc05a5d9%29%3B%0A%20%20%20%20%20%20%20%20%0A%0A%20%20%20%20%20%20%20%20marker_03350cff6f5f462aa54e68b0d0552958.bindPopup%28popup_98a3d22a5ca34b59a121f9860c77a489%29%0A%20%20%20%20%20%20%20%20%3B%0A%0A%20%20%20%20%20%20%20%20%0A%20%20%20%20%0A%20%20%20%20%0A%20%20%20%20%20%20%20%20%20%20%20%20var%20marker_afdfc3ceda4f4f768ca2df4fc1fe8928%20%3D%20L.marker%28%0A%20%20%20%20%20%20%20%20%20%20%20%20%20%20%20%20%5B40.72917%2C%20-73.998102%5D%2C%0A%20%20%20%20%20%20%20%20%20%20%20%20%20%20%20%20%7B%7D%0A%20%20%20%20%20%20%20%20%20%20%20%20%29.addTo%28map_388b3c66c2d949b39f0c9dfcb948b06e%29%3B%0A%20%20%20%20%20%20%20%20%0A%20%20%20%20%0A%20%20%20%20%20%20%20%20%20%20%20%20var%20beautify_icon_d92f7de396734097b48af3db442aac7f%20%3D%20new%20L.BeautifyIcon.icon%28%0A%20%20%20%20%20%20%20%20%20%20%20%20%20%20%20%20%7B%22backgroundColor%22%3A%20%22%23FFF%22%2C%20%22borderColor%22%3A%20%22red%22%2C%20%22borderWidth%22%3A%202%2C%20%22innerIconStyle%22%3A%20%22margin-top%3A0px%3B%22%2C%20%22isAlphaNumericIcon%22%3A%20true%2C%20%22spin%22%3A%20false%2C%20%22text%22%3A%204%2C%20%22textColor%22%3A%20%22red%22%7D%0A%20%20%20%20%20%20%20%20%20%20%20%20%29%0A%20%20%20%20%20%20%20%20%20%20%20%20marker_afdfc3ceda4f4f768ca2df4fc1fe8928.setIcon%28beautify_icon_d92f7de396734097b48af3db442aac7f%29%3B%0A%20%20%20%20%20%20%20%20%0A%20%20%20%20%0A%20%20%20%20%20%20%20%20var%20popup_d935288604414f4c99b7ea68e49d03f3%20%3D%20L.popup%28%7B%22maxWidth%22%3A%20%22100%25%22%7D%29%3B%0A%0A%20%20%20%20%20%20%20%20%0A%20%20%20%20%20%20%20%20%20%20%20%20var%20html_8f3b5cdc751243dcb2e13927628897cb%20%3D%20%24%28%60%3Cdiv%20id%3D%22html_8f3b5cdc751243dcb2e13927628897cb%22%20style%3D%22width%3A%20100.0%25%3B%20height%3A%20100.0%25%3B%22%3ELaGuardia%20Pl%20%26%20W%203%20St%3C/div%3E%60%29%5B0%5D%3B%0A%20%20%20%20%20%20%20%20%20%20%20%20popup_d935288604414f4c99b7ea68e49d03f3.setContent%28html_8f3b5cdc751243dcb2e13927628897cb%29%3B%0A%20%20%20%20%20%20%20%20%0A%0A%20%20%20%20%20%20%20%20marker_afdfc3ceda4f4f768ca2df4fc1fe8928.bindPopup%28popup_d935288604414f4c99b7ea68e49d03f3%29%0A%20%20%20%20%20%20%20%20%3B%0A%0A%20%20%20%20%20%20%20%20%0A%20%20%20%20%0A%20%20%20%20%0A%20%20%20%20%20%20%20%20%20%20%20%20var%20marker_e7a4c55a71a442b1822233f9d7d76bdb%20%3D%20L.marker%28%0A%20%20%20%20%20%20%20%20%20%20%20%20%20%20%20%20%5B40.74174%2C%20-73.994156%5D%2C%0A%20%20%20%20%20%20%20%20%20%20%20%20%20%20%20%20%7B%7D%0A%20%20%20%20%20%20%20%20%20%20%20%20%29.addTo%28map_388b3c66c2d949b39f0c9dfcb948b06e%29%3B%0A%20%20%20%20%20%20%20%20%0A%20%20%20%20%0A%20%20%20%20%20%20%20%20%20%20%20%20var%20beautify_icon_a2de2139f1054be6860d340f9f20f4b7%20%3D%20new%20L.BeautifyIcon.icon%28%0A%20%20%20%20%20%20%20%20%20%20%20%20%20%20%20%20%7B%22backgroundColor%22%3A%20%22%23FFF%22%2C%20%22borderColor%22%3A%20%22red%22%2C%20%22borderWidth%22%3A%202%2C%20%22innerIconStyle%22%3A%20%22margin-top%3A0px%3B%22%2C%20%22isAlphaNumericIcon%22%3A%20true%2C%20%22spin%22%3A%20false%2C%20%22text%22%3A%205%2C%20%22textColor%22%3A%20%22red%22%7D%0A%20%20%20%20%20%20%20%20%20%20%20%20%29%0A%20%20%20%20%20%20%20%20%20%20%20%20marker_e7a4c55a71a442b1822233f9d7d76bdb.setIcon%28beautify_icon_a2de2139f1054be6860d340f9f20f4b7%29%3B%0A%20%20%20%20%20%20%20%20%0A%20%20%20%20%0A%20%20%20%20%20%20%20%20var%20popup_d264d4e6aa3442309ad42c8694631fdd%20%3D%20L.popup%28%7B%22maxWidth%22%3A%20%22100%25%22%7D%29%3B%0A%0A%20%20%20%20%20%20%20%20%0A%20%20%20%20%20%20%20%20%20%20%20%20var%20html_97c958ea3e91436f8c30d2ac057dc9ff%20%3D%20%24%28%60%3Cdiv%20id%3D%22html_97c958ea3e91436f8c30d2ac057dc9ff%22%20style%3D%22width%3A%20100.0%25%3B%20height%3A%20100.0%25%3B%22%3EW%2021%20St%20%26%206%20Ave%3C/div%3E%60%29%5B0%5D%3B%0A%20%20%20%20%20%20%20%20%20%20%20%20popup_d264d4e6aa3442309ad42c8694631fdd.setContent%28html_97c958ea3e91436f8c30d2ac057dc9ff%29%3B%0A%20%20%20%20%20%20%20%20%0A%0A%20%20%20%20%20%20%20%20marker_e7a4c55a71a442b1822233f9d7d76bdb.bindPopup%28popup_d264d4e6aa3442309ad42c8694631fdd%29%0A%20%20%20%20%20%20%20%20%3B%0A%0A%20%20%20%20%20%20%20%20%0A%20%20%20%20%0A%3C/script%3E onload=\"this.contentDocument.open();this.contentDocument.write(    decodeURIComponent(this.getAttribute('data-html')));this.contentDocument.close();\" allowfullscreen webkitallowfullscreen mozallowfullscreen></iframe></div></div>"
      ],
      "text/plain": [
       "<folium.folium.Map at 0x7f2129eb2700>"
      ]
     },
     "execution_count": 24,
     "metadata": {},
     "output_type": "execute_result"
    }
   ],
   "source": [
    "#Top 5 starting stations by order of importance\n",
    "#data \n",
    "cm_enum_df=pd.DataFrame({'city': ['E 12 St & 3 Ave', 'Broadway & E 14 St', 'Lexington Ave & E 24 St', 'LaGuardia Pl & W 3 St', 'W 21 St & 6 Ave'], \n",
    "                         'latitude': [40.732233, 40.734546, 40.740259, 40.72917, 40.74174],\n",
    "                         'longitude': [-73.9889, -73.990741, -73.984092, -73.998102, -73.994156], \n",
    "                         'icon_num': [1,2,3,4,5]})\n",
    "#map\n",
    "map_enum_icons = folium.Map([40.735, -74.00], zoom_start=15)\n",
    "\n",
    "#icons\n",
    "for i in cm_enum_df.itertuples():\n",
    "    folium.Marker(location=[i.latitude, i.longitude],\n",
    "                  popup=i.city,\n",
    "                  icon=plugins.BeautifyIcon(number=i.icon_num,\n",
    "                                            border_color='red', \n",
    "                                            border_width=2,\n",
    "                                            text_color='red',\n",
    "                                            inner_icon_style='margin-top:0px;')).add_to(map_enum_icons)\n",
    "    \n",
    "#Save map\n",
    "map_enum_icons.save(\"./starting_station_map.html\")\n",
    "\n",
    "map_enum_icons"
   ]
  },
  {
   "cell_type": "markdown",
   "id": "0e3346a0-9f5d-4826-9c1d-de20fd49ea42",
   "metadata": {},
   "source": [
    "#### - The TOP 5 ending stations are :\n",
    "\n",
    "- W 13 St & 6 Ave             \n",
    "- Washington Pl & Broadway    \n",
    "- E 13 St & Avenue A          \n",
    "- E 12 St & 3 Ave             \n",
    "- LaGuardia Pl & W 3 St "
   ]
  },
  {
   "cell_type": "code",
   "execution_count": 25,
   "id": "ff723264-5cbb-4474-a219-29babe2bfa09",
   "metadata": {},
   "outputs": [
    {
     "data": {
      "text/html": [
       "<div style=\"width:100%;\"><div style=\"position:relative;width:100%;height:0;padding-bottom:60%;\"><span style=\"color:#565656\">Make this Notebook Trusted to load map: File -> Trust Notebook</span><iframe src=\"about:blank\" style=\"position:absolute;width:100%;height:100%;left:0;top:0;border:none !important;\" data-html=%3C%21DOCTYPE%20html%3E%0A%3Chead%3E%20%20%20%20%0A%20%20%20%20%3Cmeta%20http-equiv%3D%22content-type%22%20content%3D%22text/html%3B%20charset%3DUTF-8%22%20/%3E%0A%20%20%20%20%0A%20%20%20%20%20%20%20%20%3Cscript%3E%0A%20%20%20%20%20%20%20%20%20%20%20%20L_NO_TOUCH%20%3D%20false%3B%0A%20%20%20%20%20%20%20%20%20%20%20%20L_DISABLE_3D%20%3D%20false%3B%0A%20%20%20%20%20%20%20%20%3C/script%3E%0A%20%20%20%20%0A%20%20%20%20%3Cstyle%3Ehtml%2C%20body%20%7Bwidth%3A%20100%25%3Bheight%3A%20100%25%3Bmargin%3A%200%3Bpadding%3A%200%3B%7D%3C/style%3E%0A%20%20%20%20%3Cstyle%3E%23map%20%7Bposition%3Aabsolute%3Btop%3A0%3Bbottom%3A0%3Bright%3A0%3Bleft%3A0%3B%7D%3C/style%3E%0A%20%20%20%20%3Cscript%20src%3D%22https%3A//cdn.jsdelivr.net/npm/leaflet%401.6.0/dist/leaflet.js%22%3E%3C/script%3E%0A%20%20%20%20%3Cscript%20src%3D%22https%3A//code.jquery.com/jquery-1.12.4.min.js%22%3E%3C/script%3E%0A%20%20%20%20%3Cscript%20src%3D%22https%3A//maxcdn.bootstrapcdn.com/bootstrap/3.2.0/js/bootstrap.min.js%22%3E%3C/script%3E%0A%20%20%20%20%3Cscript%20src%3D%22https%3A//cdnjs.cloudflare.com/ajax/libs/Leaflet.awesome-markers/2.0.2/leaflet.awesome-markers.js%22%3E%3C/script%3E%0A%20%20%20%20%3Clink%20rel%3D%22stylesheet%22%20href%3D%22https%3A//cdn.jsdelivr.net/npm/leaflet%401.6.0/dist/leaflet.css%22/%3E%0A%20%20%20%20%3Clink%20rel%3D%22stylesheet%22%20href%3D%22https%3A//maxcdn.bootstrapcdn.com/bootstrap/3.2.0/css/bootstrap.min.css%22/%3E%0A%20%20%20%20%3Clink%20rel%3D%22stylesheet%22%20href%3D%22https%3A//maxcdn.bootstrapcdn.com/bootstrap/3.2.0/css/bootstrap-theme.min.css%22/%3E%0A%20%20%20%20%3Clink%20rel%3D%22stylesheet%22%20href%3D%22https%3A//maxcdn.bootstrapcdn.com/font-awesome/4.6.3/css/font-awesome.min.css%22/%3E%0A%20%20%20%20%3Clink%20rel%3D%22stylesheet%22%20href%3D%22https%3A//cdnjs.cloudflare.com/ajax/libs/Leaflet.awesome-markers/2.0.2/leaflet.awesome-markers.css%22/%3E%0A%20%20%20%20%3Clink%20rel%3D%22stylesheet%22%20href%3D%22https%3A//cdn.jsdelivr.net/gh/python-visualization/folium/folium/templates/leaflet.awesome.rotate.min.css%22/%3E%0A%20%20%20%20%0A%20%20%20%20%20%20%20%20%20%20%20%20%3Cmeta%20name%3D%22viewport%22%20content%3D%22width%3Ddevice-width%2C%0A%20%20%20%20%20%20%20%20%20%20%20%20%20%20%20%20initial-scale%3D1.0%2C%20maximum-scale%3D1.0%2C%20user-scalable%3Dno%22%20/%3E%0A%20%20%20%20%20%20%20%20%20%20%20%20%3Cstyle%3E%0A%20%20%20%20%20%20%20%20%20%20%20%20%20%20%20%20%23map_f8f9ae66f4384f96a7f9d9930c2aaa18%20%7B%0A%20%20%20%20%20%20%20%20%20%20%20%20%20%20%20%20%20%20%20%20position%3A%20relative%3B%0A%20%20%20%20%20%20%20%20%20%20%20%20%20%20%20%20%20%20%20%20width%3A%20100.0%25%3B%0A%20%20%20%20%20%20%20%20%20%20%20%20%20%20%20%20%20%20%20%20height%3A%20100.0%25%3B%0A%20%20%20%20%20%20%20%20%20%20%20%20%20%20%20%20%20%20%20%20left%3A%200.0%25%3B%0A%20%20%20%20%20%20%20%20%20%20%20%20%20%20%20%20%20%20%20%20top%3A%200.0%25%3B%0A%20%20%20%20%20%20%20%20%20%20%20%20%20%20%20%20%7D%0A%20%20%20%20%20%20%20%20%20%20%20%20%3C/style%3E%0A%20%20%20%20%20%20%20%20%0A%20%20%20%20%3Cscript%20src%3D%22https%3A//cdn.jsdelivr.net/gh/marslan390/BeautifyMarker/leaflet-beautify-marker-icon.min.js%22%3E%3C/script%3E%0A%20%20%20%20%3Clink%20rel%3D%22stylesheet%22%20href%3D%22https%3A//cdn.jsdelivr.net/gh/marslan390/BeautifyMarker/leaflet-beautify-marker-icon.min.css%22/%3E%0A%3C/head%3E%0A%3Cbody%3E%20%20%20%20%0A%20%20%20%20%0A%20%20%20%20%20%20%20%20%20%20%20%20%3Cdiv%20class%3D%22folium-map%22%20id%3D%22map_f8f9ae66f4384f96a7f9d9930c2aaa18%22%20%3E%3C/div%3E%0A%20%20%20%20%20%20%20%20%0A%3C/body%3E%0A%3Cscript%3E%20%20%20%20%0A%20%20%20%20%0A%20%20%20%20%20%20%20%20%20%20%20%20var%20map_f8f9ae66f4384f96a7f9d9930c2aaa18%20%3D%20L.map%28%0A%20%20%20%20%20%20%20%20%20%20%20%20%20%20%20%20%22map_f8f9ae66f4384f96a7f9d9930c2aaa18%22%2C%0A%20%20%20%20%20%20%20%20%20%20%20%20%20%20%20%20%7B%0A%20%20%20%20%20%20%20%20%20%20%20%20%20%20%20%20%20%20%20%20center%3A%20%5B40.735%2C%20-74.0%5D%2C%0A%20%20%20%20%20%20%20%20%20%20%20%20%20%20%20%20%20%20%20%20crs%3A%20L.CRS.EPSG3857%2C%0A%20%20%20%20%20%20%20%20%20%20%20%20%20%20%20%20%20%20%20%20zoom%3A%2015%2C%0A%20%20%20%20%20%20%20%20%20%20%20%20%20%20%20%20%20%20%20%20zoomControl%3A%20true%2C%0A%20%20%20%20%20%20%20%20%20%20%20%20%20%20%20%20%20%20%20%20preferCanvas%3A%20false%2C%0A%20%20%20%20%20%20%20%20%20%20%20%20%20%20%20%20%7D%0A%20%20%20%20%20%20%20%20%20%20%20%20%29%3B%0A%0A%20%20%20%20%20%20%20%20%20%20%20%20%0A%0A%20%20%20%20%20%20%20%20%0A%20%20%20%20%0A%20%20%20%20%20%20%20%20%20%20%20%20var%20tile_layer_7d75a4afae5d4ec18ac6b5ff5bc2f257%20%3D%20L.tileLayer%28%0A%20%20%20%20%20%20%20%20%20%20%20%20%20%20%20%20%22https%3A//%7Bs%7D.tile.openstreetmap.org/%7Bz%7D/%7Bx%7D/%7By%7D.png%22%2C%0A%20%20%20%20%20%20%20%20%20%20%20%20%20%20%20%20%7B%22attribution%22%3A%20%22Data%20by%20%5Cu0026copy%3B%20%5Cu003ca%20href%3D%5C%22http%3A//openstreetmap.org%5C%22%5Cu003eOpenStreetMap%5Cu003c/a%5Cu003e%2C%20under%20%5Cu003ca%20href%3D%5C%22http%3A//www.openstreetmap.org/copyright%5C%22%5Cu003eODbL%5Cu003c/a%5Cu003e.%22%2C%20%22detectRetina%22%3A%20false%2C%20%22maxNativeZoom%22%3A%2018%2C%20%22maxZoom%22%3A%2018%2C%20%22minZoom%22%3A%200%2C%20%22noWrap%22%3A%20false%2C%20%22opacity%22%3A%201%2C%20%22subdomains%22%3A%20%22abc%22%2C%20%22tms%22%3A%20false%7D%0A%20%20%20%20%20%20%20%20%20%20%20%20%29.addTo%28map_f8f9ae66f4384f96a7f9d9930c2aaa18%29%3B%0A%20%20%20%20%20%20%20%20%0A%20%20%20%20%0A%20%20%20%20%20%20%20%20%20%20%20%20var%20marker_23df8d3ddc54469db7a6ad82a16164e9%20%3D%20L.marker%28%0A%20%20%20%20%20%20%20%20%20%20%20%20%20%20%20%20%5B40.736494%2C%20-73.997044%5D%2C%0A%20%20%20%20%20%20%20%20%20%20%20%20%20%20%20%20%7B%7D%0A%20%20%20%20%20%20%20%20%20%20%20%20%29.addTo%28map_f8f9ae66f4384f96a7f9d9930c2aaa18%29%3B%0A%20%20%20%20%20%20%20%20%0A%20%20%20%20%0A%20%20%20%20%20%20%20%20%20%20%20%20var%20beautify_icon_7b72fdd8025e4290aa9ca841622f4ab0%20%3D%20new%20L.BeautifyIcon.icon%28%0A%20%20%20%20%20%20%20%20%20%20%20%20%20%20%20%20%7B%22backgroundColor%22%3A%20%22%23FFF%22%2C%20%22borderColor%22%3A%20%22red%22%2C%20%22borderWidth%22%3A%202%2C%20%22innerIconStyle%22%3A%20%22margin-top%3A0px%3B%22%2C%20%22isAlphaNumericIcon%22%3A%20true%2C%20%22spin%22%3A%20false%2C%20%22text%22%3A%201%2C%20%22textColor%22%3A%20%22red%22%7D%0A%20%20%20%20%20%20%20%20%20%20%20%20%29%0A%20%20%20%20%20%20%20%20%20%20%20%20marker_23df8d3ddc54469db7a6ad82a16164e9.setIcon%28beautify_icon_7b72fdd8025e4290aa9ca841622f4ab0%29%3B%0A%20%20%20%20%20%20%20%20%0A%20%20%20%20%0A%20%20%20%20%20%20%20%20var%20popup_491dc88fcd064983b52a433d654a5345%20%3D%20L.popup%28%7B%22maxWidth%22%3A%20%22100%25%22%7D%29%3B%0A%0A%20%20%20%20%20%20%20%20%0A%20%20%20%20%20%20%20%20%20%20%20%20var%20html_10b66367aabf4d6ebec9c682d10b7aec%20%3D%20%24%28%60%3Cdiv%20id%3D%22html_10b66367aabf4d6ebec9c682d10b7aec%22%20style%3D%22width%3A%20100.0%25%3B%20height%3A%20100.0%25%3B%22%3EW%2013%20St%20%26%206%20Ave%3C/div%3E%60%29%5B0%5D%3B%0A%20%20%20%20%20%20%20%20%20%20%20%20popup_491dc88fcd064983b52a433d654a5345.setContent%28html_10b66367aabf4d6ebec9c682d10b7aec%29%3B%0A%20%20%20%20%20%20%20%20%0A%0A%20%20%20%20%20%20%20%20marker_23df8d3ddc54469db7a6ad82a16164e9.bindPopup%28popup_491dc88fcd064983b52a433d654a5345%29%0A%20%20%20%20%20%20%20%20%3B%0A%0A%20%20%20%20%20%20%20%20%0A%20%20%20%20%0A%20%20%20%20%0A%20%20%20%20%20%20%20%20%20%20%20%20var%20marker_afa5f02138cf4023af57bc332a6ef39e%20%3D%20L.marker%28%0A%20%20%20%20%20%20%20%20%20%20%20%20%20%20%20%20%5B40.729039%2C%20-73.994046%5D%2C%0A%20%20%20%20%20%20%20%20%20%20%20%20%20%20%20%20%7B%7D%0A%20%20%20%20%20%20%20%20%20%20%20%20%29.addTo%28map_f8f9ae66f4384f96a7f9d9930c2aaa18%29%3B%0A%20%20%20%20%20%20%20%20%0A%20%20%20%20%0A%20%20%20%20%20%20%20%20%20%20%20%20var%20beautify_icon_1643bbd00e014e188fe01ac3b26a676b%20%3D%20new%20L.BeautifyIcon.icon%28%0A%20%20%20%20%20%20%20%20%20%20%20%20%20%20%20%20%7B%22backgroundColor%22%3A%20%22%23FFF%22%2C%20%22borderColor%22%3A%20%22red%22%2C%20%22borderWidth%22%3A%202%2C%20%22innerIconStyle%22%3A%20%22margin-top%3A0px%3B%22%2C%20%22isAlphaNumericIcon%22%3A%20true%2C%20%22spin%22%3A%20false%2C%20%22text%22%3A%202%2C%20%22textColor%22%3A%20%22red%22%7D%0A%20%20%20%20%20%20%20%20%20%20%20%20%29%0A%20%20%20%20%20%20%20%20%20%20%20%20marker_afa5f02138cf4023af57bc332a6ef39e.setIcon%28beautify_icon_1643bbd00e014e188fe01ac3b26a676b%29%3B%0A%20%20%20%20%20%20%20%20%0A%20%20%20%20%0A%20%20%20%20%20%20%20%20var%20popup_5583f46733fb432aaea3b9bb88eeb1e1%20%3D%20L.popup%28%7B%22maxWidth%22%3A%20%22100%25%22%7D%29%3B%0A%0A%20%20%20%20%20%20%20%20%0A%20%20%20%20%20%20%20%20%20%20%20%20var%20html_c769c13d4cbe48c98f3aeb5a30c6bfa3%20%3D%20%24%28%60%3Cdiv%20id%3D%22html_c769c13d4cbe48c98f3aeb5a30c6bfa3%22%20style%3D%22width%3A%20100.0%25%3B%20height%3A%20100.0%25%3B%22%3EWashington%20Pl%20%26%20Broadway%3C/div%3E%60%29%5B0%5D%3B%0A%20%20%20%20%20%20%20%20%20%20%20%20popup_5583f46733fb432aaea3b9bb88eeb1e1.setContent%28html_c769c13d4cbe48c98f3aeb5a30c6bfa3%29%3B%0A%20%20%20%20%20%20%20%20%0A%0A%20%20%20%20%20%20%20%20marker_afa5f02138cf4023af57bc332a6ef39e.bindPopup%28popup_5583f46733fb432aaea3b9bb88eeb1e1%29%0A%20%20%20%20%20%20%20%20%3B%0A%0A%20%20%20%20%20%20%20%20%0A%20%20%20%20%0A%20%20%20%20%0A%20%20%20%20%20%20%20%20%20%20%20%20var%20marker_b2b863afd7e949a3aa9a8103c1172ee4%20%3D%20L.marker%28%0A%20%20%20%20%20%20%20%20%20%20%20%20%20%20%20%20%5B40.729554%2C%20-73.980572%5D%2C%0A%20%20%20%20%20%20%20%20%20%20%20%20%20%20%20%20%7B%7D%0A%20%20%20%20%20%20%20%20%20%20%20%20%29.addTo%28map_f8f9ae66f4384f96a7f9d9930c2aaa18%29%3B%0A%20%20%20%20%20%20%20%20%0A%20%20%20%20%0A%20%20%20%20%20%20%20%20%20%20%20%20var%20beautify_icon_b8e7411a6e4d4398afb820b5da4df08a%20%3D%20new%20L.BeautifyIcon.icon%28%0A%20%20%20%20%20%20%20%20%20%20%20%20%20%20%20%20%7B%22backgroundColor%22%3A%20%22%23FFF%22%2C%20%22borderColor%22%3A%20%22red%22%2C%20%22borderWidth%22%3A%202%2C%20%22innerIconStyle%22%3A%20%22margin-top%3A0px%3B%22%2C%20%22isAlphaNumericIcon%22%3A%20true%2C%20%22spin%22%3A%20false%2C%20%22text%22%3A%203%2C%20%22textColor%22%3A%20%22red%22%7D%0A%20%20%20%20%20%20%20%20%20%20%20%20%29%0A%20%20%20%20%20%20%20%20%20%20%20%20marker_b2b863afd7e949a3aa9a8103c1172ee4.setIcon%28beautify_icon_b8e7411a6e4d4398afb820b5da4df08a%29%3B%0A%20%20%20%20%20%20%20%20%0A%20%20%20%20%0A%20%20%20%20%20%20%20%20var%20popup_e93334cb75a64e30b8b9b89a9f524836%20%3D%20L.popup%28%7B%22maxWidth%22%3A%20%22100%25%22%7D%29%3B%0A%0A%20%20%20%20%20%20%20%20%0A%20%20%20%20%20%20%20%20%20%20%20%20var%20html_a602c9018ccb4f3e92cb7c90c7d91c66%20%3D%20%24%28%60%3Cdiv%20id%3D%22html_a602c9018ccb4f3e92cb7c90c7d91c66%22%20style%3D%22width%3A%20100.0%25%3B%20height%3A%20100.0%25%3B%22%3EE%2013%20St%20%26%20Avenue%20A%3C/div%3E%60%29%5B0%5D%3B%0A%20%20%20%20%20%20%20%20%20%20%20%20popup_e93334cb75a64e30b8b9b89a9f524836.setContent%28html_a602c9018ccb4f3e92cb7c90c7d91c66%29%3B%0A%20%20%20%20%20%20%20%20%0A%0A%20%20%20%20%20%20%20%20marker_b2b863afd7e949a3aa9a8103c1172ee4.bindPopup%28popup_e93334cb75a64e30b8b9b89a9f524836%29%0A%20%20%20%20%20%20%20%20%3B%0A%0A%20%20%20%20%20%20%20%20%0A%20%20%20%20%0A%20%20%20%20%0A%20%20%20%20%20%20%20%20%20%20%20%20var%20marker_7dada900d4c04102a935fb1fdef6bac3%20%3D%20L.marker%28%0A%20%20%20%20%20%20%20%20%20%20%20%20%20%20%20%20%5B40.732233%2C%20-73.9889%5D%2C%0A%20%20%20%20%20%20%20%20%20%20%20%20%20%20%20%20%7B%7D%0A%20%20%20%20%20%20%20%20%20%20%20%20%29.addTo%28map_f8f9ae66f4384f96a7f9d9930c2aaa18%29%3B%0A%20%20%20%20%20%20%20%20%0A%20%20%20%20%0A%20%20%20%20%20%20%20%20%20%20%20%20var%20beautify_icon_d7ad3175f4ec42f2bc6df89072861563%20%3D%20new%20L.BeautifyIcon.icon%28%0A%20%20%20%20%20%20%20%20%20%20%20%20%20%20%20%20%7B%22backgroundColor%22%3A%20%22%23FFF%22%2C%20%22borderColor%22%3A%20%22red%22%2C%20%22borderWidth%22%3A%202%2C%20%22innerIconStyle%22%3A%20%22margin-top%3A0px%3B%22%2C%20%22isAlphaNumericIcon%22%3A%20true%2C%20%22spin%22%3A%20false%2C%20%22text%22%3A%204%2C%20%22textColor%22%3A%20%22red%22%7D%0A%20%20%20%20%20%20%20%20%20%20%20%20%29%0A%20%20%20%20%20%20%20%20%20%20%20%20marker_7dada900d4c04102a935fb1fdef6bac3.setIcon%28beautify_icon_d7ad3175f4ec42f2bc6df89072861563%29%3B%0A%20%20%20%20%20%20%20%20%0A%20%20%20%20%0A%20%20%20%20%20%20%20%20var%20popup_49ce7b948d054df5b3460804ff288b8c%20%3D%20L.popup%28%7B%22maxWidth%22%3A%20%22100%25%22%7D%29%3B%0A%0A%20%20%20%20%20%20%20%20%0A%20%20%20%20%20%20%20%20%20%20%20%20var%20html_e72bcb4aac4f4b21b2ce62153bb71b53%20%3D%20%24%28%60%3Cdiv%20id%3D%22html_e72bcb4aac4f4b21b2ce62153bb71b53%22%20style%3D%22width%3A%20100.0%25%3B%20height%3A%20100.0%25%3B%22%3EE%2012%20St%20%26%203%20Ave%3C/div%3E%60%29%5B0%5D%3B%0A%20%20%20%20%20%20%20%20%20%20%20%20popup_49ce7b948d054df5b3460804ff288b8c.setContent%28html_e72bcb4aac4f4b21b2ce62153bb71b53%29%3B%0A%20%20%20%20%20%20%20%20%0A%0A%20%20%20%20%20%20%20%20marker_7dada900d4c04102a935fb1fdef6bac3.bindPopup%28popup_49ce7b948d054df5b3460804ff288b8c%29%0A%20%20%20%20%20%20%20%20%3B%0A%0A%20%20%20%20%20%20%20%20%0A%20%20%20%20%0A%20%20%20%20%0A%20%20%20%20%20%20%20%20%20%20%20%20var%20marker_89727c5793054adbbde33bfd4a0166f0%20%3D%20L.marker%28%0A%20%20%20%20%20%20%20%20%20%20%20%20%20%20%20%20%5B40.72917%2C%20-73.998102%5D%2C%0A%20%20%20%20%20%20%20%20%20%20%20%20%20%20%20%20%7B%7D%0A%20%20%20%20%20%20%20%20%20%20%20%20%29.addTo%28map_f8f9ae66f4384f96a7f9d9930c2aaa18%29%3B%0A%20%20%20%20%20%20%20%20%0A%20%20%20%20%0A%20%20%20%20%20%20%20%20%20%20%20%20var%20beautify_icon_2e37cba58aa9484fa020f9d34af4c1dc%20%3D%20new%20L.BeautifyIcon.icon%28%0A%20%20%20%20%20%20%20%20%20%20%20%20%20%20%20%20%7B%22backgroundColor%22%3A%20%22%23FFF%22%2C%20%22borderColor%22%3A%20%22red%22%2C%20%22borderWidth%22%3A%202%2C%20%22innerIconStyle%22%3A%20%22margin-top%3A0px%3B%22%2C%20%22isAlphaNumericIcon%22%3A%20true%2C%20%22spin%22%3A%20false%2C%20%22text%22%3A%205%2C%20%22textColor%22%3A%20%22red%22%7D%0A%20%20%20%20%20%20%20%20%20%20%20%20%29%0A%20%20%20%20%20%20%20%20%20%20%20%20marker_89727c5793054adbbde33bfd4a0166f0.setIcon%28beautify_icon_2e37cba58aa9484fa020f9d34af4c1dc%29%3B%0A%20%20%20%20%20%20%20%20%0A%20%20%20%20%0A%20%20%20%20%20%20%20%20var%20popup_eff5d8c5f53e48eea4d6236842f3bc27%20%3D%20L.popup%28%7B%22maxWidth%22%3A%20%22100%25%22%7D%29%3B%0A%0A%20%20%20%20%20%20%20%20%0A%20%20%20%20%20%20%20%20%20%20%20%20var%20html_7115b272cf8646e986032cfe71669a77%20%3D%20%24%28%60%3Cdiv%20id%3D%22html_7115b272cf8646e986032cfe71669a77%22%20style%3D%22width%3A%20100.0%25%3B%20height%3A%20100.0%25%3B%22%3ELaGuardia%20Pl%20%26%20W%203%20St%3C/div%3E%60%29%5B0%5D%3B%0A%20%20%20%20%20%20%20%20%20%20%20%20popup_eff5d8c5f53e48eea4d6236842f3bc27.setContent%28html_7115b272cf8646e986032cfe71669a77%29%3B%0A%20%20%20%20%20%20%20%20%0A%0A%20%20%20%20%20%20%20%20marker_89727c5793054adbbde33bfd4a0166f0.bindPopup%28popup_eff5d8c5f53e48eea4d6236842f3bc27%29%0A%20%20%20%20%20%20%20%20%3B%0A%0A%20%20%20%20%20%20%20%20%0A%20%20%20%20%0A%3C/script%3E onload=\"this.contentDocument.open();this.contentDocument.write(    decodeURIComponent(this.getAttribute('data-html')));this.contentDocument.close();\" allowfullscreen webkitallowfullscreen mozallowfullscreen></iframe></div></div>"
      ],
      "text/plain": [
       "<folium.folium.Map at 0x7f2129eba190>"
      ]
     },
     "execution_count": 25,
     "metadata": {},
     "output_type": "execute_result"
    }
   ],
   "source": [
    "#Top 5 ending stations by order of importance\n",
    "#data \n",
    "cm_enum_df2=pd.DataFrame({'city': ['W 13 St & 6 Ave', 'Washington Pl & Broadway', 'E 13 St & Avenue A', 'E 12 St & 3 Ave', 'LaGuardia Pl & W 3 St'], \n",
    "                         'latitude': [40.736494\t, 40.729039, 40.729554, 40.732233, 40.72917],\n",
    "                         'longitude': [-73.997044, -73.994046, -73.980572, -73.9889, -73.998102], \n",
    "                         'icon_num': [1,2,3,4,5]})\n",
    "#map\n",
    "map_enum_icons2 = folium.Map([40.735, -74.00], zoom_start=15)\n",
    "\n",
    "#icons\n",
    "for i in cm_enum_df2.itertuples():\n",
    "    folium.Marker(location=[i.latitude, i.longitude],\n",
    "                  popup=i.city,\n",
    "                  icon=plugins.BeautifyIcon(number=i.icon_num,\n",
    "                                            border_color='red', \n",
    "                                            border_width=2,\n",
    "                                            text_color='red',\n",
    "                                            inner_icon_style='margin-top:0px;')).add_to(map_enum_icons2)\n",
    "    \n",
    "#Save map\n",
    "map_enum_icons2.save(\"./ending_station_map.html\")\n",
    "\n",
    "map_enum_icons2"
   ]
  }
 ],
 "metadata": {
  "kernelspec": {
   "display_name": "Python 3 (ipykernel)",
   "language": "python",
   "name": "python3"
  },
  "language_info": {
   "codemirror_mode": {
    "name": "ipython",
    "version": 3
   },
   "file_extension": ".py",
   "mimetype": "text/x-python",
   "name": "python",
   "nbconvert_exporter": "python",
   "pygments_lexer": "ipython3",
   "version": "3.9.7"
  }
 },
 "nbformat": 4,
 "nbformat_minor": 5
}
